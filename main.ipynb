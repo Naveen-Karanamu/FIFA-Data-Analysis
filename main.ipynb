{
 "cells": [
  {
   "cell_type": "markdown",
   "metadata": {},
   "source": [
    "# FIFA DataSet Analysis"
   ]
  },
  {
   "cell_type": "markdown",
   "metadata": {},
   "source": [
    "\n",
    "* Importing Libraries"
   ]
  },
  {
   "cell_type": "code",
   "execution_count": 41,
   "metadata": {},
   "outputs": [],
   "source": [
    "\n",
    "#Numpy\n",
    "import numpy as np\n",
    "\n",
    "# Pandas\n",
    "import pandas as pd\n",
    "\n",
    "# BeautifulSoup\n",
    "from bs4 import BeautifulSoup\n",
    "\n",
    "# Requests\n",
    "import requests\n",
    "\n",
    "# Reges\n",
    "import regex as re \n",
    "\n",
    "# sqlite\n",
    "import sqlite3 as sql\n",
    "\n",
    "# MatplotLib\n",
    "import matplotlib.pyplot as plt\n",
    "\n",
    "# Seaborn\n",
    "import seaborn as sns"
   ]
  },
  {
   "cell_type": "markdown",
   "metadata": {},
   "source": [
    "* Web Scrapping\n"
   ]
  },
  {
   "cell_type": "code",
   "execution_count": 2,
   "metadata": {},
   "outputs": [
    {
     "data": {
      "text/plain": [
       "<Response [200]>"
      ]
     },
     "execution_count": 2,
     "metadata": {},
     "output_type": "execute_result"
    }
   ],
   "source": [
    "req=requests.get(\"https://sofifa.com/players?offset=1\")\n",
    "req"
   ]
  },
  {
   "cell_type": "markdown",
   "metadata": {},
   "source": [
    "* BeautifulSoup"
   ]
  },
  {
   "cell_type": "code",
   "execution_count": 3,
   "metadata": {},
   "outputs": [],
   "source": [
    "soup=BeautifulSoup(req.content)"
   ]
  },
  {
   "cell_type": "code",
   "execution_count": 4,
   "metadata": {},
   "outputs": [],
   "source": [
    "# Adding the attributes to the array\n",
    "arr=[]\n",
    "for i in soup.findAll('td'):\n",
    "    arr.append(str(i))"
   ]
  },
  {
   "cell_type": "markdown",
   "metadata": {},
   "source": [
    "* Cleaning Image URL"
   ]
  },
  {
   "cell_type": "code",
   "execution_count": 5,
   "metadata": {},
   "outputs": [
    {
     "data": {
      "text/plain": [
       "'https://cdn.sofifa.net/players/231/677/22_60.png'"
      ]
     },
     "execution_count": 5,
     "metadata": {},
     "output_type": "execute_result"
    }
   ],
   "source": [
    "clean_img=re.sub('<td.*\\n.*data-src=.|\".*',\"\",arr[0])\n",
    "clean_img"
   ]
  },
  {
   "cell_type": "code",
   "execution_count": 6,
   "metadata": {},
   "outputs": [
    {
     "data": {
      "text/plain": [
       "'<td class=\"col-avatar\" data-balloon=\"Click here!\" data-balloon-pos=\"up\" data-balloon-visible=\"\"><figure class=\"avatar\">\\n<img alt=\"\" class=\"player-check\" data-root=\"https://cdn.sofifa.net/players/\" data-src=\"https://cdn.sofifa.net/players/231/677/22_60.png\" data-srcset=\"https://cdn.sofifa.net/players/231/677/22_120.png 2x, https://cdn.sofifa.net/players/231/677/22_180.png 3x\" data-type=\"player\" id=\"231677\" src=\"https://cdn.sofifa.net/players/notfound_0_60.png\"/></figure></td>'"
      ]
     },
     "execution_count": 6,
     "metadata": {},
     "output_type": "execute_result"
    }
   ],
   "source": [
    "# The row is from 0-8\n",
    "arr[0]"
   ]
  },
  {
   "cell_type": "markdown",
   "metadata": {},
   "source": [
    "* Cleaning Name"
   ]
  },
  {
   "cell_type": "code",
   "execution_count": 7,
   "metadata": {},
   "outputs": [
    {
     "data": {
      "text/plain": [
       "'M. Rashford'"
      ]
     },
     "execution_count": 7,
     "metadata": {},
     "output_type": "execute_result"
    }
   ],
   "source": [
    "clean_name=re.sub('<td.*\\n.*s\">|<\\/div.*>',\"\",arr[1])\n",
    "clean_name"
   ]
  },
  {
   "cell_type": "markdown",
   "metadata": {},
   "source": [
    "* Cleaning Age"
   ]
  },
  {
   "cell_type": "code",
   "execution_count": 8,
   "metadata": {},
   "outputs": [
    {
     "data": {
      "text/plain": [
       "'16'"
      ]
     },
     "execution_count": 8,
     "metadata": {},
     "output_type": "execute_result"
    }
   ],
   "source": [
    "clean_age=re.sub('<td.*e\">|<.*>',\"\",arr[11])\n",
    "clean_age"
   ]
  },
  {
   "cell_type": "markdown",
   "metadata": {},
   "source": [
    "* Cleaning OVA"
   ]
  },
  {
   "cell_type": "code",
   "execution_count": 9,
   "metadata": {},
   "outputs": [
    {
     "data": {
      "text/plain": [
       "'83'"
      ]
     },
     "execution_count": 9,
     "metadata": {},
     "output_type": "execute_result"
    }
   ],
   "source": [
    "clean_ova=re.sub('<td.*p.*\">|<.*>',\"\",arr[3])\n",
    "clean_ova"
   ]
  },
  {
   "cell_type": "markdown",
   "metadata": {},
   "source": [
    "* Cleaning POT"
   ]
  },
  {
   "cell_type": "code",
   "execution_count": 10,
   "metadata": {},
   "outputs": [
    {
     "data": {
      "text/plain": [
       "'87'"
      ]
     },
     "execution_count": 10,
     "metadata": {},
     "output_type": "execute_result"
    }
   ],
   "source": [
    "clean_pot=re.sub('<td.*p.*\">|<.*>',\"\",arr[4])\n",
    "clean_pot"
   ]
  },
  {
   "cell_type": "markdown",
   "metadata": {},
   "source": [
    "* Cleaning Team & Contract"
   ]
  },
  {
   "cell_type": "code",
   "execution_count": 11,
   "metadata": {},
   "outputs": [
    {
     "data": {
      "text/plain": [
       "'Manchester United'"
      ]
     },
     "execution_count": 11,
     "metadata": {},
     "output_type": "execute_result"
    }
   ],
   "source": [
    "clean_team=re.sub('<td.*\\n<d.*\\n<i.*\\n</f.*\\n.*/\">|<.*\\n.*>\\n.*>\\n.*>',\"\",arr[5])\n",
    "clean_team"
   ]
  },
  {
   "cell_type": "markdown",
   "metadata": {},
   "source": [
    "* Cleaning Value"
   ]
  },
  {
   "cell_type": "code",
   "execution_count": 12,
   "metadata": {},
   "outputs": [
    {
     "data": {
      "text/plain": [
       "'€52M'"
      ]
     },
     "execution_count": 12,
     "metadata": {},
     "output_type": "execute_result"
    }
   ],
   "source": [
    "clean_value=re.sub('<td.*\">|<.*>',\"\",arr[6])\n",
    "clean_value"
   ]
  },
  {
   "cell_type": "markdown",
   "metadata": {},
   "source": [
    "* Cleaning Wage"
   ]
  },
  {
   "cell_type": "code",
   "execution_count": 13,
   "metadata": {},
   "outputs": [
    {
     "data": {
      "text/plain": [
       "'€125K'"
      ]
     },
     "execution_count": 13,
     "metadata": {},
     "output_type": "execute_result"
    }
   ],
   "source": [
    "clean_wage=re.sub('<td.*\">|<.*>',\"\",arr[7])\n",
    "clean_wage"
   ]
  },
  {
   "cell_type": "markdown",
   "metadata": {},
   "source": [
    "* Cleaning Total"
   ]
  },
  {
   "cell_type": "code",
   "execution_count": 14,
   "metadata": {},
   "outputs": [
    {
     "data": {
      "text/plain": [
       "'2118'"
      ]
     },
     "execution_count": 14,
     "metadata": {},
     "output_type": "execute_result"
    }
   ],
   "source": [
    "clean_total=re.sub('<td.*\">|<.*>',\"\",arr[8])\n",
    "clean_total"
   ]
  },
  {
   "cell_type": "markdown",
   "metadata": {},
   "source": [
    "* Looping through the data"
   ]
  },
  {
   "cell_type": "code",
   "execution_count": 15,
   "metadata": {},
   "outputs": [],
   "source": [
    "#0-8\n",
    "img=[]\n",
    "name=[]\n",
    "age=[]\n",
    "ova=[]\n",
    "pot=[]\n",
    "team=[]\n",
    "value=[]\n",
    "wage=[]\n",
    "total=[]\n",
    "\n",
    "count=0\n",
    "for j in range(1,20):\n",
    "    url=f\"https://sofifa.com/players?offset={j}\"\n",
    "    req=requests.get(url)\n",
    "    soup=BeautifulSoup(req.content)\n",
    "    \n",
    "    for i in soup.findAll('td'):\n",
    "        clean_img=re.sub('<td.*\\n.*data-src=.|\".*',\"\",str(i))\n",
    "        clean_name=re.sub('<td.*\\n.*s\">|<\\/div.*>',\"\",str(i))\n",
    "        clean_age=re.sub('<td.*e\">|<.*>',\"\",str(i))\n",
    "        clean_ova=re.sub('<td.*p.*\">|<.*>',\"\",str(i))\n",
    "        clean_pot=re.sub('<td.*p.*\">|<.*>',\"\",str(i))\n",
    "        clean_team=re.sub('<td.*\\n<d.*\\n<i.*\\n</f.*\\n.*/\">|<.*\\n.*>\\n.*>\\n.*>',\"\",str(i))\n",
    "        clean_value=re.sub('<td.*\">.|.<.*>',\"\",str(i))\n",
    "        clean_wage=re.sub('<td.*\">.|.<.*>',\"\",str(i))\n",
    "        clean_total=re.sub('<td.*\">|<.*>',\"\",str(i))\n",
    "        \n",
    "        if count==0:\n",
    "            img.append(clean_img)\n",
    "            count+=1\n",
    "        elif count==1:\n",
    "            name.append(clean_name)\n",
    "            count+=1\n",
    "        elif count==2:\n",
    "            age.append(clean_age)\n",
    "            count+=1\n",
    "        elif count==3:\n",
    "            ova.append(clean_ova)\n",
    "            count+=1\n",
    "        elif count==4:\n",
    "            pot.append(clean_pot)\n",
    "            count+=1\n",
    "        elif count==5:\n",
    "            team.append(clean_team)\n",
    "            count+=1\n",
    "        elif count==6:\n",
    "            value.append(clean_value)\n",
    "            count+=1\n",
    "        elif count==7:\n",
    "            wage.append(clean_wage)\n",
    "            count+=1\n",
    "        else:\n",
    "            count=0\n",
    "            total.append(clean_total)\n",
    "        \n"
   ]
  },
  {
   "cell_type": "markdown",
   "metadata": {},
   "source": [
    "* Type casting"
   ]
  },
  {
   "cell_type": "code",
   "execution_count": 16,
   "metadata": {},
   "outputs": [],
   "source": [
    "fifa=pd.DataFrame({'Image':img,'Name':name,'Age':age,'OVA':ova,'POT':pot,'Team':team,'Value (M$)':value,'Wage (K$)':wage,'Total':total})\n",
    "fifa['Age']=pd.to_numeric(fifa['Age'])\n",
    "fifa['OVA']=pd.to_numeric(fifa['OVA'])\n",
    "fifa['POT']=pd.to_numeric(fifa['POT'])\n",
    "fifa['Value (M$)']=pd.to_numeric(fifa['Value (M$)'])\n",
    "fifa['Wage (K$)']=pd.to_numeric(fifa['Wage (K$)'])\n",
    "fifa['Total']=pd.to_numeric(fifa['Total'])"
   ]
  },
  {
   "cell_type": "code",
   "execution_count": 17,
   "metadata": {},
   "outputs": [
    {
     "name": "stdout",
     "output_type": "stream",
     "text": [
      "<class 'pandas.core.frame.DataFrame'>\n",
      "RangeIndex: 1140 entries, 0 to 1139\n",
      "Data columns (total 9 columns):\n",
      " #   Column      Non-Null Count  Dtype  \n",
      "---  ------      --------------  -----  \n",
      " 0   Image       1140 non-null   object \n",
      " 1   Name        1140 non-null   object \n",
      " 2   Age         1140 non-null   int64  \n",
      " 3   OVA         1140 non-null   int64  \n",
      " 4   POT         1140 non-null   int64  \n",
      " 5   Team        1140 non-null   object \n",
      " 6   Value (M$)  1140 non-null   float64\n",
      " 7   Wage (K$)   1140 non-null   int64  \n",
      " 8   Total       1140 non-null   int64  \n",
      "dtypes: float64(1), int64(5), object(3)\n",
      "memory usage: 80.3+ KB\n"
     ]
    }
   ],
   "source": [
    "# Getting the basic info for the DF\n",
    "fifa.info()"
   ]
  },
  {
   "cell_type": "code",
   "execution_count": 18,
   "metadata": {},
   "outputs": [
    {
     "data": {
      "text/plain": [
       "(1140, 9)"
      ]
     },
     "execution_count": 18,
     "metadata": {},
     "output_type": "execute_result"
    }
   ],
   "source": [
    "# Shape of the DF\n",
    "fifa.shape"
   ]
  },
  {
   "cell_type": "markdown",
   "metadata": {},
   "source": [
    "*Droping the Image url column from the DF"
   ]
  },
  {
   "cell_type": "code",
   "execution_count": 19,
   "metadata": {},
   "outputs": [],
   "source": [
    "# Remmoving the Image column\n",
    "fifa.drop(columns=[\"Image\"],inplace=True,axis=1)"
   ]
  },
  {
   "cell_type": "markdown",
   "metadata": {},
   "source": [
    "* 1st 20 datapoints"
   ]
  },
  {
   "cell_type": "code",
   "execution_count": 20,
   "metadata": {},
   "outputs": [
    {
     "data": {
      "text/html": [
       "<div>\n",
       "<style scoped>\n",
       "    .dataframe tbody tr th:only-of-type {\n",
       "        vertical-align: middle;\n",
       "    }\n",
       "\n",
       "    .dataframe tbody tr th {\n",
       "        vertical-align: top;\n",
       "    }\n",
       "\n",
       "    .dataframe thead th {\n",
       "        text-align: right;\n",
       "    }\n",
       "</style>\n",
       "<table border=\"1\" class=\"dataframe\">\n",
       "  <thead>\n",
       "    <tr style=\"text-align: right;\">\n",
       "      <th></th>\n",
       "      <th>Name</th>\n",
       "      <th>Age</th>\n",
       "      <th>OVA</th>\n",
       "      <th>POT</th>\n",
       "      <th>Team</th>\n",
       "      <th>Value (M$)</th>\n",
       "      <th>Wage (K$)</th>\n",
       "      <th>Total</th>\n",
       "    </tr>\n",
       "  </thead>\n",
       "  <tbody>\n",
       "    <tr>\n",
       "      <th>0</th>\n",
       "      <td>M. Rashford</td>\n",
       "      <td>23</td>\n",
       "      <td>83</td>\n",
       "      <td>87</td>\n",
       "      <td>Manchester United</td>\n",
       "      <td>52.0</td>\n",
       "      <td>125</td>\n",
       "      <td>2118</td>\n",
       "    </tr>\n",
       "    <tr>\n",
       "      <th>1</th>\n",
       "      <td>Gavi</td>\n",
       "      <td>16</td>\n",
       "      <td>77</td>\n",
       "      <td>89</td>\n",
       "      <td>FC Barcelona</td>\n",
       "      <td>24.0</td>\n",
       "      <td>14</td>\n",
       "      <td>1970</td>\n",
       "    </tr>\n",
       "    <tr>\n",
       "      <th>2</th>\n",
       "      <td>N. Zalewski</td>\n",
       "      <td>19</td>\n",
       "      <td>68</td>\n",
       "      <td>82</td>\n",
       "      <td>Roma</td>\n",
       "      <td>2.9</td>\n",
       "      <td>10</td>\n",
       "      <td>1697</td>\n",
       "    </tr>\n",
       "    <tr>\n",
       "      <th>3</th>\n",
       "      <td>C. Nkunku</td>\n",
       "      <td>23</td>\n",
       "      <td>86</td>\n",
       "      <td>89</td>\n",
       "      <td>RB Leipzig</td>\n",
       "      <td>93.0</td>\n",
       "      <td>110</td>\n",
       "      <td>2199</td>\n",
       "    </tr>\n",
       "    <tr>\n",
       "      <th>4</th>\n",
       "      <td>L. Geertruida</td>\n",
       "      <td>20</td>\n",
       "      <td>76</td>\n",
       "      <td>84</td>\n",
       "      <td>Feyenoord</td>\n",
       "      <td>15.5</td>\n",
       "      <td>8</td>\n",
       "      <td>1882</td>\n",
       "    </tr>\n",
       "    <tr>\n",
       "      <th>5</th>\n",
       "      <td>A. Tchouaméni</td>\n",
       "      <td>21</td>\n",
       "      <td>81</td>\n",
       "      <td>88</td>\n",
       "      <td>AS Monaco</td>\n",
       "      <td>52.0</td>\n",
       "      <td>46</td>\n",
       "      <td>2141</td>\n",
       "    </tr>\n",
       "    <tr>\n",
       "      <th>6</th>\n",
       "      <td>O. Kökçü</td>\n",
       "      <td>20</td>\n",
       "      <td>78</td>\n",
       "      <td>85</td>\n",
       "      <td>Feyenoord</td>\n",
       "      <td>27.5</td>\n",
       "      <td>10</td>\n",
       "      <td>2058</td>\n",
       "    </tr>\n",
       "    <tr>\n",
       "      <th>7</th>\n",
       "      <td>D. Núñez</td>\n",
       "      <td>22</td>\n",
       "      <td>78</td>\n",
       "      <td>86</td>\n",
       "      <td>SL Benfica</td>\n",
       "      <td>32.0</td>\n",
       "      <td>15</td>\n",
       "      <td>1987</td>\n",
       "    </tr>\n",
       "    <tr>\n",
       "      <th>8</th>\n",
       "      <td>D. Kamada</td>\n",
       "      <td>24</td>\n",
       "      <td>79</td>\n",
       "      <td>82</td>\n",
       "      <td>Eintracht Frankfurt</td>\n",
       "      <td>24.0</td>\n",
       "      <td>29</td>\n",
       "      <td>1951</td>\n",
       "    </tr>\n",
       "    <tr>\n",
       "      <th>9</th>\n",
       "      <td>J. Gvardiol</td>\n",
       "      <td>19</td>\n",
       "      <td>79</td>\n",
       "      <td>89</td>\n",
       "      <td>RB Leipzig</td>\n",
       "      <td>35.5</td>\n",
       "      <td>35</td>\n",
       "      <td>2017</td>\n",
       "    </tr>\n",
       "    <tr>\n",
       "      <th>10</th>\n",
       "      <td>A. Knauff</td>\n",
       "      <td>19</td>\n",
       "      <td>71</td>\n",
       "      <td>82</td>\n",
       "      <td>Eintracht Frankfurt</td>\n",
       "      <td>4.0</td>\n",
       "      <td>17</td>\n",
       "      <td>1740</td>\n",
       "    </tr>\n",
       "    <tr>\n",
       "      <th>11</th>\n",
       "      <td>J. Timber</td>\n",
       "      <td>20</td>\n",
       "      <td>79</td>\n",
       "      <td>88</td>\n",
       "      <td>Ajax</td>\n",
       "      <td>36.0</td>\n",
       "      <td>13</td>\n",
       "      <td>1935</td>\n",
       "    </tr>\n",
       "    <tr>\n",
       "      <th>12</th>\n",
       "      <td>Rafael Leão</td>\n",
       "      <td>22</td>\n",
       "      <td>82</td>\n",
       "      <td>90</td>\n",
       "      <td>AC Milan</td>\n",
       "      <td>68.5</td>\n",
       "      <td>52</td>\n",
       "      <td>1959</td>\n",
       "    </tr>\n",
       "    <tr>\n",
       "      <th>13</th>\n",
       "      <td>N. Schlotterbeck</td>\n",
       "      <td>21</td>\n",
       "      <td>80</td>\n",
       "      <td>86</td>\n",
       "      <td>Sport-Club Freiburg</td>\n",
       "      <td>31.0</td>\n",
       "      <td>23</td>\n",
       "      <td>1839</td>\n",
       "    </tr>\n",
       "    <tr>\n",
       "      <th>14</th>\n",
       "      <td>R. James</td>\n",
       "      <td>21</td>\n",
       "      <td>83</td>\n",
       "      <td>87</td>\n",
       "      <td>Chelsea</td>\n",
       "      <td>49.5</td>\n",
       "      <td>90</td>\n",
       "      <td>2201</td>\n",
       "    </tr>\n",
       "    <tr>\n",
       "      <th>15</th>\n",
       "      <td>Cristiano Ronaldo</td>\n",
       "      <td>36</td>\n",
       "      <td>91</td>\n",
       "      <td>91</td>\n",
       "      <td>Manchester United</td>\n",
       "      <td>45.0</td>\n",
       "      <td>270</td>\n",
       "      <td>2188</td>\n",
       "    </tr>\n",
       "    <tr>\n",
       "      <th>16</th>\n",
       "      <td>L. Sinisterra</td>\n",
       "      <td>22</td>\n",
       "      <td>78</td>\n",
       "      <td>84</td>\n",
       "      <td>Feyenoord</td>\n",
       "      <td>22.5</td>\n",
       "      <td>13</td>\n",
       "      <td>2009</td>\n",
       "    </tr>\n",
       "    <tr>\n",
       "      <th>17</th>\n",
       "      <td>C. Dessers</td>\n",
       "      <td>26</td>\n",
       "      <td>74</td>\n",
       "      <td>75</td>\n",
       "      <td>Feyenoord</td>\n",
       "      <td>5.0</td>\n",
       "      <td>16</td>\n",
       "      <td>1753</td>\n",
       "    </tr>\n",
       "    <tr>\n",
       "      <th>18</th>\n",
       "      <td>N. Mbamba</td>\n",
       "      <td>16</td>\n",
       "      <td>64</td>\n",
       "      <td>88</td>\n",
       "      <td>Club Brugge KV</td>\n",
       "      <td>1.7</td>\n",
       "      <td>50</td>\n",
       "      <td>1546</td>\n",
       "    </tr>\n",
       "    <tr>\n",
       "      <th>19</th>\n",
       "      <td>D. Vlahović</td>\n",
       "      <td>21</td>\n",
       "      <td>83</td>\n",
       "      <td>90</td>\n",
       "      <td>Juventus</td>\n",
       "      <td>74.5</td>\n",
       "      <td>85</td>\n",
       "      <td>1874</td>\n",
       "    </tr>\n",
       "  </tbody>\n",
       "</table>\n",
       "</div>"
      ],
      "text/plain": [
       "                 Name  Age  OVA  POT                 Team  Value (M$)  \\\n",
       "0         M. Rashford   23   83   87    Manchester United        52.0   \n",
       "1                Gavi   16   77   89         FC Barcelona        24.0   \n",
       "2         N. Zalewski   19   68   82                 Roma         2.9   \n",
       "3           C. Nkunku   23   86   89           RB Leipzig        93.0   \n",
       "4       L. Geertruida   20   76   84            Feyenoord        15.5   \n",
       "5       A. Tchouaméni   21   81   88            AS Monaco        52.0   \n",
       "6            O. Kökçü   20   78   85            Feyenoord        27.5   \n",
       "7            D. Núñez   22   78   86           SL Benfica        32.0   \n",
       "8           D. Kamada   24   79   82  Eintracht Frankfurt        24.0   \n",
       "9         J. Gvardiol   19   79   89           RB Leipzig        35.5   \n",
       "10          A. Knauff   19   71   82  Eintracht Frankfurt         4.0   \n",
       "11          J. Timber   20   79   88                 Ajax        36.0   \n",
       "12        Rafael Leão   22   82   90             AC Milan        68.5   \n",
       "13   N. Schlotterbeck   21   80   86  Sport-Club Freiburg        31.0   \n",
       "14           R. James   21   83   87              Chelsea        49.5   \n",
       "15  Cristiano Ronaldo   36   91   91    Manchester United        45.0   \n",
       "16      L. Sinisterra   22   78   84            Feyenoord        22.5   \n",
       "17         C. Dessers   26   74   75            Feyenoord         5.0   \n",
       "18          N. Mbamba   16   64   88       Club Brugge KV         1.7   \n",
       "19        D. Vlahović   21   83   90             Juventus        74.5   \n",
       "\n",
       "    Wage (K$)  Total  \n",
       "0         125   2118  \n",
       "1          14   1970  \n",
       "2          10   1697  \n",
       "3         110   2199  \n",
       "4           8   1882  \n",
       "5          46   2141  \n",
       "6          10   2058  \n",
       "7          15   1987  \n",
       "8          29   1951  \n",
       "9          35   2017  \n",
       "10         17   1740  \n",
       "11         13   1935  \n",
       "12         52   1959  \n",
       "13         23   1839  \n",
       "14         90   2201  \n",
       "15        270   2188  \n",
       "16         13   2009  \n",
       "17         16   1753  \n",
       "18         50   1546  \n",
       "19         85   1874  "
      ]
     },
     "execution_count": 20,
     "metadata": {},
     "output_type": "execute_result"
    }
   ],
   "source": [
    "fifa.head(20)"
   ]
  },
  {
   "cell_type": "markdown",
   "metadata": {},
   "source": [
    "* Last 20 Datapoints"
   ]
  },
  {
   "cell_type": "code",
   "execution_count": 21,
   "metadata": {},
   "outputs": [
    {
     "data": {
      "text/html": [
       "<div>\n",
       "<style scoped>\n",
       "    .dataframe tbody tr th:only-of-type {\n",
       "        vertical-align: middle;\n",
       "    }\n",
       "\n",
       "    .dataframe tbody tr th {\n",
       "        vertical-align: top;\n",
       "    }\n",
       "\n",
       "    .dataframe thead th {\n",
       "        text-align: right;\n",
       "    }\n",
       "</style>\n",
       "<table border=\"1\" class=\"dataframe\">\n",
       "  <thead>\n",
       "    <tr style=\"text-align: right;\">\n",
       "      <th></th>\n",
       "      <th>Name</th>\n",
       "      <th>Age</th>\n",
       "      <th>OVA</th>\n",
       "      <th>POT</th>\n",
       "      <th>Team</th>\n",
       "      <th>Value (M$)</th>\n",
       "      <th>Wage (K$)</th>\n",
       "      <th>Total</th>\n",
       "    </tr>\n",
       "  </thead>\n",
       "  <tbody>\n",
       "    <tr>\n",
       "      <th>1120</th>\n",
       "      <td>E. Camavinga</td>\n",
       "      <td>18</td>\n",
       "      <td>79</td>\n",
       "      <td>89</td>\n",
       "      <td>Real Madrid CF</td>\n",
       "      <td>37.0</td>\n",
       "      <td>48</td>\n",
       "      <td>2109</td>\n",
       "    </tr>\n",
       "    <tr>\n",
       "      <th>1121</th>\n",
       "      <td>D. Scarlett</td>\n",
       "      <td>17</td>\n",
       "      <td>64</td>\n",
       "      <td>86</td>\n",
       "      <td>Tottenham Hotspur</td>\n",
       "      <td>1.8</td>\n",
       "      <td>4</td>\n",
       "      <td>1519</td>\n",
       "    </tr>\n",
       "    <tr>\n",
       "      <th>1122</th>\n",
       "      <td>H. Elliott</td>\n",
       "      <td>18</td>\n",
       "      <td>73</td>\n",
       "      <td>87</td>\n",
       "      <td>Liverpool</td>\n",
       "      <td>7.0</td>\n",
       "      <td>23</td>\n",
       "      <td>1723</td>\n",
       "    </tr>\n",
       "    <tr>\n",
       "      <th>1123</th>\n",
       "      <td>M. Cash</td>\n",
       "      <td>23</td>\n",
       "      <td>78</td>\n",
       "      <td>83</td>\n",
       "      <td>Aston Villa</td>\n",
       "      <td>20.0</td>\n",
       "      <td>50</td>\n",
       "      <td>1982</td>\n",
       "    </tr>\n",
       "    <tr>\n",
       "      <th>1124</th>\n",
       "      <td>K. Havertz</td>\n",
       "      <td>22</td>\n",
       "      <td>84</td>\n",
       "      <td>91</td>\n",
       "      <td>Chelsea</td>\n",
       "      <td>85.5</td>\n",
       "      <td>130</td>\n",
       "      <td>2038</td>\n",
       "    </tr>\n",
       "    <tr>\n",
       "      <th>1125</th>\n",
       "      <td>L. Díaz</td>\n",
       "      <td>24</td>\n",
       "      <td>83</td>\n",
       "      <td>86</td>\n",
       "      <td>Liverpool</td>\n",
       "      <td>49.5</td>\n",
       "      <td>130</td>\n",
       "      <td>2040</td>\n",
       "    </tr>\n",
       "    <tr>\n",
       "      <th>1126</th>\n",
       "      <td>Fábio Carvalho</td>\n",
       "      <td>18</td>\n",
       "      <td>73</td>\n",
       "      <td>86</td>\n",
       "      <td>Fulham</td>\n",
       "      <td>7.0</td>\n",
       "      <td>15</td>\n",
       "      <td>1784</td>\n",
       "    </tr>\n",
       "    <tr>\n",
       "      <th>1127</th>\n",
       "      <td>Diogo Jota</td>\n",
       "      <td>24</td>\n",
       "      <td>85</td>\n",
       "      <td>89</td>\n",
       "      <td>Liverpool</td>\n",
       "      <td>78.0</td>\n",
       "      <td>155</td>\n",
       "      <td>2188</td>\n",
       "    </tr>\n",
       "    <tr>\n",
       "      <th>1128</th>\n",
       "      <td>F. de Jong</td>\n",
       "      <td>24</td>\n",
       "      <td>87</td>\n",
       "      <td>92</td>\n",
       "      <td>FC Barcelona</td>\n",
       "      <td>119.5</td>\n",
       "      <td>210</td>\n",
       "      <td>2235</td>\n",
       "    </tr>\n",
       "    <tr>\n",
       "      <th>1129</th>\n",
       "      <td>T. Alexander-Arnold</td>\n",
       "      <td>22</td>\n",
       "      <td>87</td>\n",
       "      <td>90</td>\n",
       "      <td>Liverpool</td>\n",
       "      <td>102.5</td>\n",
       "      <td>150</td>\n",
       "      <td>2238</td>\n",
       "    </tr>\n",
       "    <tr>\n",
       "      <th>1130</th>\n",
       "      <td>Lucas Paquetá</td>\n",
       "      <td>23</td>\n",
       "      <td>81</td>\n",
       "      <td>86</td>\n",
       "      <td>Olympique Lyonnais</td>\n",
       "      <td>39.0</td>\n",
       "      <td>65</td>\n",
       "      <td>2190</td>\n",
       "    </tr>\n",
       "    <tr>\n",
       "      <th>1131</th>\n",
       "      <td>B. Kamara</td>\n",
       "      <td>21</td>\n",
       "      <td>80</td>\n",
       "      <td>86</td>\n",
       "      <td>Olympique de Marseille</td>\n",
       "      <td>31.0</td>\n",
       "      <td>30</td>\n",
       "      <td>1987</td>\n",
       "    </tr>\n",
       "    <tr>\n",
       "      <th>1132</th>\n",
       "      <td>T. Malacia</td>\n",
       "      <td>21</td>\n",
       "      <td>78</td>\n",
       "      <td>83</td>\n",
       "      <td>Feyenoord</td>\n",
       "      <td>20.0</td>\n",
       "      <td>9</td>\n",
       "      <td>1955</td>\n",
       "    </tr>\n",
       "    <tr>\n",
       "      <th>1133</th>\n",
       "      <td>J. Lindstrøm</td>\n",
       "      <td>21</td>\n",
       "      <td>75</td>\n",
       "      <td>84</td>\n",
       "      <td>Eintracht Frankfurt</td>\n",
       "      <td>12.5</td>\n",
       "      <td>19</td>\n",
       "      <td>1897</td>\n",
       "    </tr>\n",
       "    <tr>\n",
       "      <th>1134</th>\n",
       "      <td>J. Musiala</td>\n",
       "      <td>18</td>\n",
       "      <td>79</td>\n",
       "      <td>89</td>\n",
       "      <td>FC Bayern München</td>\n",
       "      <td>37.0</td>\n",
       "      <td>26</td>\n",
       "      <td>1911</td>\n",
       "    </tr>\n",
       "    <tr>\n",
       "      <th>1135</th>\n",
       "      <td>Raphinha</td>\n",
       "      <td>24</td>\n",
       "      <td>83</td>\n",
       "      <td>86</td>\n",
       "      <td>Leeds United</td>\n",
       "      <td>49.5</td>\n",
       "      <td>95</td>\n",
       "      <td>2124</td>\n",
       "    </tr>\n",
       "    <tr>\n",
       "      <th>1136</th>\n",
       "      <td>E. Ndicka</td>\n",
       "      <td>21</td>\n",
       "      <td>80</td>\n",
       "      <td>85</td>\n",
       "      <td>Eintracht Frankfurt</td>\n",
       "      <td>29.5</td>\n",
       "      <td>23</td>\n",
       "      <td>1939</td>\n",
       "    </tr>\n",
       "    <tr>\n",
       "      <th>1137</th>\n",
       "      <td>E. Fernández</td>\n",
       "      <td>20</td>\n",
       "      <td>76</td>\n",
       "      <td>85</td>\n",
       "      <td>River Plate</td>\n",
       "      <td>16.5</td>\n",
       "      <td>13</td>\n",
       "      <td>2081</td>\n",
       "    </tr>\n",
       "    <tr>\n",
       "      <th>1138</th>\n",
       "      <td>J. Frimpong</td>\n",
       "      <td>20</td>\n",
       "      <td>78</td>\n",
       "      <td>85</td>\n",
       "      <td>Bayer 04 Leverkusen</td>\n",
       "      <td>26.5</td>\n",
       "      <td>33</td>\n",
       "      <td>1996</td>\n",
       "    </tr>\n",
       "    <tr>\n",
       "      <th>1139</th>\n",
       "      <td>T. Almada</td>\n",
       "      <td>20</td>\n",
       "      <td>75</td>\n",
       "      <td>86</td>\n",
       "      <td>Atlanta United</td>\n",
       "      <td>12.5</td>\n",
       "      <td>7</td>\n",
       "      <td>1999</td>\n",
       "    </tr>\n",
       "  </tbody>\n",
       "</table>\n",
       "</div>"
      ],
      "text/plain": [
       "                     Name  Age  OVA  POT                    Team  Value (M$)  \\\n",
       "1120         E. Camavinga   18   79   89          Real Madrid CF        37.0   \n",
       "1121          D. Scarlett   17   64   86       Tottenham Hotspur         1.8   \n",
       "1122           H. Elliott   18   73   87               Liverpool         7.0   \n",
       "1123              M. Cash   23   78   83             Aston Villa        20.0   \n",
       "1124           K. Havertz   22   84   91                 Chelsea        85.5   \n",
       "1125              L. Díaz   24   83   86               Liverpool        49.5   \n",
       "1126       Fábio Carvalho   18   73   86                  Fulham         7.0   \n",
       "1127           Diogo Jota   24   85   89               Liverpool        78.0   \n",
       "1128           F. de Jong   24   87   92            FC Barcelona       119.5   \n",
       "1129  T. Alexander-Arnold   22   87   90               Liverpool       102.5   \n",
       "1130        Lucas Paquetá   23   81   86      Olympique Lyonnais        39.0   \n",
       "1131            B. Kamara   21   80   86  Olympique de Marseille        31.0   \n",
       "1132           T. Malacia   21   78   83               Feyenoord        20.0   \n",
       "1133         J. Lindstrøm   21   75   84     Eintracht Frankfurt        12.5   \n",
       "1134           J. Musiala   18   79   89       FC Bayern München        37.0   \n",
       "1135             Raphinha   24   83   86            Leeds United        49.5   \n",
       "1136            E. Ndicka   21   80   85     Eintracht Frankfurt        29.5   \n",
       "1137         E. Fernández   20   76   85             River Plate        16.5   \n",
       "1138          J. Frimpong   20   78   85     Bayer 04 Leverkusen        26.5   \n",
       "1139            T. Almada   20   75   86          Atlanta United        12.5   \n",
       "\n",
       "      Wage (K$)  Total  \n",
       "1120         48   2109  \n",
       "1121          4   1519  \n",
       "1122         23   1723  \n",
       "1123         50   1982  \n",
       "1124        130   2038  \n",
       "1125        130   2040  \n",
       "1126         15   1784  \n",
       "1127        155   2188  \n",
       "1128        210   2235  \n",
       "1129        150   2238  \n",
       "1130         65   2190  \n",
       "1131         30   1987  \n",
       "1132          9   1955  \n",
       "1133         19   1897  \n",
       "1134         26   1911  \n",
       "1135         95   2124  \n",
       "1136         23   1939  \n",
       "1137         13   2081  \n",
       "1138         33   1996  \n",
       "1139          7   1999  "
      ]
     },
     "execution_count": 21,
     "metadata": {},
     "output_type": "execute_result"
    }
   ],
   "source": [
    "fifa.tail(20)"
   ]
  },
  {
   "cell_type": "markdown",
   "metadata": {},
   "source": [
    "* Statistical Data"
   ]
  },
  {
   "cell_type": "code",
   "execution_count": 22,
   "metadata": {},
   "outputs": [
    {
     "data": {
      "text/html": [
       "<div>\n",
       "<style scoped>\n",
       "    .dataframe tbody tr th:only-of-type {\n",
       "        vertical-align: middle;\n",
       "    }\n",
       "\n",
       "    .dataframe tbody tr th {\n",
       "        vertical-align: top;\n",
       "    }\n",
       "\n",
       "    .dataframe thead th {\n",
       "        text-align: right;\n",
       "    }\n",
       "</style>\n",
       "<table border=\"1\" class=\"dataframe\">\n",
       "  <thead>\n",
       "    <tr style=\"text-align: right;\">\n",
       "      <th></th>\n",
       "      <th>Age</th>\n",
       "      <th>OVA</th>\n",
       "      <th>POT</th>\n",
       "      <th>Value (M$)</th>\n",
       "      <th>Wage (K$)</th>\n",
       "      <th>Total</th>\n",
       "    </tr>\n",
       "  </thead>\n",
       "  <tbody>\n",
       "    <tr>\n",
       "      <th>count</th>\n",
       "      <td>1140.000000</td>\n",
       "      <td>1140.000000</td>\n",
       "      <td>1140.000000</td>\n",
       "      <td>1140.000000</td>\n",
       "      <td>1140.000000</td>\n",
       "      <td>1140.000000</td>\n",
       "    </tr>\n",
       "    <tr>\n",
       "      <th>mean</th>\n",
       "      <td>21.513158</td>\n",
       "      <td>79.521053</td>\n",
       "      <td>87.438596</td>\n",
       "      <td>44.828333</td>\n",
       "      <td>73.194737</td>\n",
       "      <td>1964.142982</td>\n",
       "    </tr>\n",
       "    <tr>\n",
       "      <th>std</th>\n",
       "      <td>3.932798</td>\n",
       "      <td>6.278333</td>\n",
       "      <td>3.330849</td>\n",
       "      <td>37.331046</td>\n",
       "      <td>85.444049</td>\n",
       "      <td>170.490399</td>\n",
       "    </tr>\n",
       "    <tr>\n",
       "      <th>min</th>\n",
       "      <td>16.000000</td>\n",
       "      <td>64.000000</td>\n",
       "      <td>75.000000</td>\n",
       "      <td>1.700000</td>\n",
       "      <td>2.000000</td>\n",
       "      <td>1519.000000</td>\n",
       "    </tr>\n",
       "    <tr>\n",
       "      <th>25%</th>\n",
       "      <td>19.000000</td>\n",
       "      <td>76.000000</td>\n",
       "      <td>86.000000</td>\n",
       "      <td>16.500000</td>\n",
       "      <td>16.000000</td>\n",
       "      <td>1856.000000</td>\n",
       "    </tr>\n",
       "    <tr>\n",
       "      <th>50%</th>\n",
       "      <td>21.000000</td>\n",
       "      <td>80.000000</td>\n",
       "      <td>87.000000</td>\n",
       "      <td>36.000000</td>\n",
       "      <td>35.000000</td>\n",
       "      <td>1989.000000</td>\n",
       "    </tr>\n",
       "    <tr>\n",
       "      <th>75%</th>\n",
       "      <td>23.000000</td>\n",
       "      <td>83.000000</td>\n",
       "      <td>90.000000</td>\n",
       "      <td>64.500000</td>\n",
       "      <td>110.000000</td>\n",
       "      <td>2091.000000</td>\n",
       "    </tr>\n",
       "    <tr>\n",
       "      <th>max</th>\n",
       "      <td>36.000000</td>\n",
       "      <td>92.000000</td>\n",
       "      <td>95.000000</td>\n",
       "      <td>194.000000</td>\n",
       "      <td>450.000000</td>\n",
       "      <td>2257.000000</td>\n",
       "    </tr>\n",
       "  </tbody>\n",
       "</table>\n",
       "</div>"
      ],
      "text/plain": [
       "               Age          OVA          POT   Value (M$)    Wage (K$)  \\\n",
       "count  1140.000000  1140.000000  1140.000000  1140.000000  1140.000000   \n",
       "mean     21.513158    79.521053    87.438596    44.828333    73.194737   \n",
       "std       3.932798     6.278333     3.330849    37.331046    85.444049   \n",
       "min      16.000000    64.000000    75.000000     1.700000     2.000000   \n",
       "25%      19.000000    76.000000    86.000000    16.500000    16.000000   \n",
       "50%      21.000000    80.000000    87.000000    36.000000    35.000000   \n",
       "75%      23.000000    83.000000    90.000000    64.500000   110.000000   \n",
       "max      36.000000    92.000000    95.000000   194.000000   450.000000   \n",
       "\n",
       "             Total  \n",
       "count  1140.000000  \n",
       "mean   1964.142982  \n",
       "std     170.490399  \n",
       "min    1519.000000  \n",
       "25%    1856.000000  \n",
       "50%    1989.000000  \n",
       "75%    2091.000000  \n",
       "max    2257.000000  "
      ]
     },
     "execution_count": 22,
     "metadata": {},
     "output_type": "execute_result"
    }
   ],
   "source": [
    "fifa.describe()"
   ]
  },
  {
   "cell_type": "markdown",
   "metadata": {},
   "source": [
    "# Analysis"
   ]
  },
  {
   "cell_type": "markdown",
   "metadata": {},
   "source": [
    "* Display and drop all the duplicated datas"
   ]
  },
  {
   "cell_type": "code",
   "execution_count": 23,
   "metadata": {},
   "outputs": [],
   "source": [
    "fifa.duplicated().sum()\n",
    "fifa.drop_duplicates(inplace=True)"
   ]
  },
  {
   "cell_type": "markdown",
   "metadata": {},
   "source": [
    "* Player who is having the highest wage?"
   ]
  },
  {
   "cell_type": "code",
   "execution_count": 24,
   "metadata": {},
   "outputs": [
    {
     "data": {
      "text/html": [
       "<div>\n",
       "<style scoped>\n",
       "    .dataframe tbody tr th:only-of-type {\n",
       "        vertical-align: middle;\n",
       "    }\n",
       "\n",
       "    .dataframe tbody tr th {\n",
       "        vertical-align: top;\n",
       "    }\n",
       "\n",
       "    .dataframe thead th {\n",
       "        text-align: right;\n",
       "    }\n",
       "</style>\n",
       "<table border=\"1\" class=\"dataframe\">\n",
       "  <thead>\n",
       "    <tr style=\"text-align: right;\">\n",
       "      <th></th>\n",
       "      <th>Name</th>\n",
       "      <th>Age</th>\n",
       "      <th>OVA</th>\n",
       "      <th>POT</th>\n",
       "      <th>Team</th>\n",
       "      <th>Value (M$)</th>\n",
       "      <th>Wage (K$)</th>\n",
       "      <th>Total</th>\n",
       "    </tr>\n",
       "  </thead>\n",
       "  <tbody>\n",
       "    <tr>\n",
       "      <th>45</th>\n",
       "      <td>K. Benzema</td>\n",
       "      <td>33</td>\n",
       "      <td>91</td>\n",
       "      <td>91</td>\n",
       "      <td>Real Madrid CF</td>\n",
       "      <td>84.0</td>\n",
       "      <td>450</td>\n",
       "      <td>2145</td>\n",
       "    </tr>\n",
       "  </tbody>\n",
       "</table>\n",
       "</div>"
      ],
      "text/plain": [
       "          Name  Age  OVA  POT            Team  Value (M$)  Wage (K$)  Total\n",
       "45  K. Benzema   33   91   91  Real Madrid CF        84.0        450   2145"
      ]
     },
     "execution_count": 24,
     "metadata": {},
     "output_type": "execute_result"
    }
   ],
   "source": [
    "fifa[fifa['Wage (K$)']==max(fifa['Wage (K$)'])]\n",
    "\n",
    "# K. Benzema is the player with highest wage\n"
   ]
  },
  {
   "cell_type": "markdown",
   "metadata": {},
   "source": [
    "* Find the youngest player(s)"
   ]
  },
  {
   "cell_type": "code",
   "execution_count": 25,
   "metadata": {},
   "outputs": [
    {
     "data": {
      "text/html": [
       "<div>\n",
       "<style scoped>\n",
       "    .dataframe tbody tr th:only-of-type {\n",
       "        vertical-align: middle;\n",
       "    }\n",
       "\n",
       "    .dataframe tbody tr th {\n",
       "        vertical-align: top;\n",
       "    }\n",
       "\n",
       "    .dataframe thead th {\n",
       "        text-align: right;\n",
       "    }\n",
       "</style>\n",
       "<table border=\"1\" class=\"dataframe\">\n",
       "  <thead>\n",
       "    <tr style=\"text-align: right;\">\n",
       "      <th></th>\n",
       "      <th>Name</th>\n",
       "      <th>Age</th>\n",
       "      <th>OVA</th>\n",
       "      <th>POT</th>\n",
       "      <th>Team</th>\n",
       "      <th>Value (M$)</th>\n",
       "      <th>Wage (K$)</th>\n",
       "      <th>Total</th>\n",
       "    </tr>\n",
       "  </thead>\n",
       "  <tbody>\n",
       "    <tr>\n",
       "      <th>1</th>\n",
       "      <td>Gavi</td>\n",
       "      <td>16</td>\n",
       "      <td>77</td>\n",
       "      <td>89</td>\n",
       "      <td>FC Barcelona</td>\n",
       "      <td>24.0</td>\n",
       "      <td>14</td>\n",
       "      <td>1970</td>\n",
       "    </tr>\n",
       "    <tr>\n",
       "      <th>18</th>\n",
       "      <td>N. Mbamba</td>\n",
       "      <td>16</td>\n",
       "      <td>64</td>\n",
       "      <td>88</td>\n",
       "      <td>Club Brugge KV</td>\n",
       "      <td>1.7</td>\n",
       "      <td>50</td>\n",
       "      <td>1546</td>\n",
       "    </tr>\n",
       "    <tr>\n",
       "      <th>38</th>\n",
       "      <td>Y. Moukoko</td>\n",
       "      <td>16</td>\n",
       "      <td>69</td>\n",
       "      <td>89</td>\n",
       "      <td>Borussia Dortmund</td>\n",
       "      <td>3.8</td>\n",
       "      <td>5</td>\n",
       "      <td>1725</td>\n",
       "    </tr>\n",
       "  </tbody>\n",
       "</table>\n",
       "</div>"
      ],
      "text/plain": [
       "          Name  Age  OVA  POT               Team  Value (M$)  Wage (K$)  Total\n",
       "1         Gavi   16   77   89       FC Barcelona        24.0         14   1970\n",
       "18   N. Mbamba   16   64   88     Club Brugge KV         1.7         50   1546\n",
       "38  Y. Moukoko   16   69   89  Borussia Dortmund         3.8          5   1725"
      ]
     },
     "execution_count": 25,
     "metadata": {},
     "output_type": "execute_result"
    }
   ],
   "source": [
    "# Youngest player\n",
    "fifa[fifa['Age']==min(fifa['Age'])]"
   ]
  },
  {
   "cell_type": "markdown",
   "metadata": {},
   "source": [
    "* Find the oldest player(s)"
   ]
  },
  {
   "cell_type": "code",
   "execution_count": 26,
   "metadata": {},
   "outputs": [
    {
     "data": {
      "text/html": [
       "<div>\n",
       "<style scoped>\n",
       "    .dataframe tbody tr th:only-of-type {\n",
       "        vertical-align: middle;\n",
       "    }\n",
       "\n",
       "    .dataframe tbody tr th {\n",
       "        vertical-align: top;\n",
       "    }\n",
       "\n",
       "    .dataframe thead th {\n",
       "        text-align: right;\n",
       "    }\n",
       "</style>\n",
       "<table border=\"1\" class=\"dataframe\">\n",
       "  <thead>\n",
       "    <tr style=\"text-align: right;\">\n",
       "      <th></th>\n",
       "      <th>Name</th>\n",
       "      <th>Age</th>\n",
       "    </tr>\n",
       "  </thead>\n",
       "  <tbody>\n",
       "    <tr>\n",
       "      <th>15</th>\n",
       "      <td>Cristiano Ronaldo</td>\n",
       "      <td>36</td>\n",
       "    </tr>\n",
       "  </tbody>\n",
       "</table>\n",
       "</div>"
      ],
      "text/plain": [
       "                 Name  Age\n",
       "15  Cristiano Ronaldo   36"
      ]
     },
     "execution_count": 26,
     "metadata": {},
     "output_type": "execute_result"
    }
   ],
   "source": [
    "# Oldest player\n",
    "fifa[fifa['Age']==max(fifa['Age'])][['Name',\"Age\"]]"
   ]
  },
  {
   "cell_type": "markdown",
   "metadata": {},
   "source": [
    "* List out the Top 10 players according to their POT"
   ]
  },
  {
   "cell_type": "code",
   "execution_count": 27,
   "metadata": {},
   "outputs": [
    {
     "data": {
      "text/plain": [
       "23             K. Mbappé\n",
       "35            E. Haaland\n",
       "21              L. Messi\n",
       "40              P. Foden\n",
       "539           F. de Jong\n",
       "22                 Pedri\n",
       "239           K. Havertz\n",
       "45            K. Benzema\n",
       "15     Cristiano Ronaldo\n",
       "33          Vinícius Jr.\n",
       "Name: Name, dtype: object"
      ]
     },
     "execution_count": 27,
     "metadata": {},
     "output_type": "execute_result"
    }
   ],
   "source": [
    "fifa.sort_values(by=\"POT\", ascending=False)['Name'].head(10)"
   ]
  },
  {
   "cell_type": "markdown",
   "metadata": {},
   "source": [
    "* Create a new DataFrame with the values of columns - Name & POT"
   ]
  },
  {
   "cell_type": "code",
   "execution_count": 28,
   "metadata": {},
   "outputs": [
    {
     "data": {
      "text/html": [
       "<div>\n",
       "<style scoped>\n",
       "    .dataframe tbody tr th:only-of-type {\n",
       "        vertical-align: middle;\n",
       "    }\n",
       "\n",
       "    .dataframe tbody tr th {\n",
       "        vertical-align: top;\n",
       "    }\n",
       "\n",
       "    .dataframe thead th {\n",
       "        text-align: right;\n",
       "    }\n",
       "</style>\n",
       "<table border=\"1\" class=\"dataframe\">\n",
       "  <thead>\n",
       "    <tr style=\"text-align: right;\">\n",
       "      <th></th>\n",
       "      <th>Name</th>\n",
       "      <th>POT</th>\n",
       "    </tr>\n",
       "  </thead>\n",
       "  <tbody>\n",
       "    <tr>\n",
       "      <th>0</th>\n",
       "      <td>M. Rashford</td>\n",
       "      <td>87</td>\n",
       "    </tr>\n",
       "    <tr>\n",
       "      <th>1</th>\n",
       "      <td>Gavi</td>\n",
       "      <td>89</td>\n",
       "    </tr>\n",
       "    <tr>\n",
       "      <th>2</th>\n",
       "      <td>N. Zalewski</td>\n",
       "      <td>82</td>\n",
       "    </tr>\n",
       "    <tr>\n",
       "      <th>3</th>\n",
       "      <td>C. Nkunku</td>\n",
       "      <td>89</td>\n",
       "    </tr>\n",
       "    <tr>\n",
       "      <th>4</th>\n",
       "      <td>L. Geertruida</td>\n",
       "      <td>84</td>\n",
       "    </tr>\n",
       "    <tr>\n",
       "      <th>...</th>\n",
       "      <td>...</td>\n",
       "      <td>...</td>\n",
       "    </tr>\n",
       "    <tr>\n",
       "      <th>899</th>\n",
       "      <td>E. Fernández</td>\n",
       "      <td>85</td>\n",
       "    </tr>\n",
       "    <tr>\n",
       "      <th>958</th>\n",
       "      <td>T. Almada</td>\n",
       "      <td>86</td>\n",
       "    </tr>\n",
       "    <tr>\n",
       "      <th>1017</th>\n",
       "      <td>E. Ndicka</td>\n",
       "      <td>85</td>\n",
       "    </tr>\n",
       "    <tr>\n",
       "      <th>1076</th>\n",
       "      <td>Raphinha</td>\n",
       "      <td>86</td>\n",
       "    </tr>\n",
       "    <tr>\n",
       "      <th>1079</th>\n",
       "      <td>J. Frimpong</td>\n",
       "      <td>85</td>\n",
       "    </tr>\n",
       "  </tbody>\n",
       "</table>\n",
       "<p>79 rows × 2 columns</p>\n",
       "</div>"
      ],
      "text/plain": [
       "               Name  POT\n",
       "0       M. Rashford   87\n",
       "1              Gavi   89\n",
       "2       N. Zalewski   82\n",
       "3         C. Nkunku   89\n",
       "4     L. Geertruida   84\n",
       "...             ...  ...\n",
       "899    E. Fernández   85\n",
       "958       T. Almada   86\n",
       "1017      E. Ndicka   85\n",
       "1076       Raphinha   86\n",
       "1079    J. Frimpong   85\n",
       "\n",
       "[79 rows x 2 columns]"
      ]
     },
     "execution_count": 28,
     "metadata": {},
     "output_type": "execute_result"
    }
   ],
   "source": [
    "new_df=fifa[['Name','POT']]\n",
    "new_df"
   ]
  },
  {
   "cell_type": "markdown",
   "metadata": {},
   "source": [
    "* Plot a graph for Player's name Vs Player's POT"
   ]
  },
  {
   "cell_type": "code",
   "execution_count": 29,
   "metadata": {},
   "outputs": [
    {
     "data": {
      "text/plain": [
       "<BarContainer object of 10 artists>"
      ]
     },
     "execution_count": 29,
     "metadata": {},
     "output_type": "execute_result"
    },
    {
     "data": {
      "image/png": "[encoded data removed]",
      "text/plain": [
       "<Figure size 432x288 with 1 Axes>"
      ]
     },
     "metadata": {
      "needs_background": "light"
     },
     "output_type": "display_data"
    }
   ],
   "source": [
    "x=fifa['Name'].head(10)\n",
    "y=fifa['POT'].head(10)\n",
    "fig=plt.figure()\n",
    "fig.add_axes([1,2,2,1.5])\n",
    "plt.title(\"Player's name Vs Player's POT\")\n",
    "plt.xlabel(\"Player's Name\")\n",
    "plt.ylabel(\"Player's POT\")\n",
    "plt.grid()\n",
    "plt.bar(x,y)"
   ]
  },
  {
   "cell_type": "markdown",
   "metadata": {},
   "source": [
    "* Plot a Player's Name Vs Player's Wage Graph"
   ]
  },
  {
   "cell_type": "code",
   "execution_count": 30,
   "metadata": {},
   "outputs": [
    {
     "data": {
      "text/plain": [
       "<BarContainer object of 10 artists>"
      ]
     },
     "execution_count": 30,
     "metadata": {},
     "output_type": "execute_result"
    },
    {
     "data": {
      "image/png": "[encoded data removed]",
      "text/plain": [
       "<Figure size 432x288 with 1 Axes>"
      ]
     },
     "metadata": {
      "needs_background": "light"
     },
     "output_type": "display_data"
    }
   ],
   "source": [
    "x=fifa['Name'].tail(10)\n",
    "y=fifa['Wage (K$)'].tail(10)\n",
    "fig=plt.figure()\n",
    "fig.add_axes([1,2,2,1.5])\n",
    "plt.title(\"Player's name Vs Player's Wage\")\n",
    "plt.xlabel(\"Player's Name\")\n",
    "plt.ylabel(\"Player's Wage\")\n",
    "plt.grid()\n",
    "plt.bar(x,y)"
   ]
  },
  {
   "cell_type": "markdown",
   "metadata": {},
   "source": [
    "* The players whose potential is more than or equal to 90"
   ]
  },
  {
   "cell_type": "code",
   "execution_count": 33,
   "metadata": {},
   "outputs": [
    {
     "data": {
      "text/html": [
       "<div>\n",
       "<style scoped>\n",
       "    .dataframe tbody tr th:only-of-type {\n",
       "        vertical-align: middle;\n",
       "    }\n",
       "\n",
       "    .dataframe tbody tr th {\n",
       "        vertical-align: top;\n",
       "    }\n",
       "\n",
       "    .dataframe thead th {\n",
       "        text-align: right;\n",
       "    }\n",
       "</style>\n",
       "<table border=\"1\" class=\"dataframe\">\n",
       "  <thead>\n",
       "    <tr style=\"text-align: right;\">\n",
       "      <th></th>\n",
       "      <th>Name</th>\n",
       "      <th>POT</th>\n",
       "    </tr>\n",
       "  </thead>\n",
       "  <tbody>\n",
       "    <tr>\n",
       "      <th>12</th>\n",
       "      <td>Rafael Leão</td>\n",
       "      <td>90</td>\n",
       "    </tr>\n",
       "    <tr>\n",
       "      <th>15</th>\n",
       "      <td>Cristiano Ronaldo</td>\n",
       "      <td>91</td>\n",
       "    </tr>\n",
       "    <tr>\n",
       "      <th>19</th>\n",
       "      <td>D. Vlahović</td>\n",
       "      <td>90</td>\n",
       "    </tr>\n",
       "    <tr>\n",
       "      <th>21</th>\n",
       "      <td>L. Messi</td>\n",
       "      <td>92</td>\n",
       "    </tr>\n",
       "    <tr>\n",
       "      <th>22</th>\n",
       "      <td>Pedri</td>\n",
       "      <td>92</td>\n",
       "    </tr>\n",
       "    <tr>\n",
       "      <th>23</th>\n",
       "      <td>K. Mbappé</td>\n",
       "      <td>95</td>\n",
       "    </tr>\n",
       "    <tr>\n",
       "      <th>26</th>\n",
       "      <td>J. Bellingham</td>\n",
       "      <td>90</td>\n",
       "    </tr>\n",
       "    <tr>\n",
       "      <th>32</th>\n",
       "      <td>R. Gravenberch</td>\n",
       "      <td>90</td>\n",
       "    </tr>\n",
       "    <tr>\n",
       "      <th>33</th>\n",
       "      <td>Vinícius Jr.</td>\n",
       "      <td>91</td>\n",
       "    </tr>\n",
       "    <tr>\n",
       "      <th>35</th>\n",
       "      <td>E. Haaland</td>\n",
       "      <td>94</td>\n",
       "    </tr>\n",
       "    <tr>\n",
       "      <th>36</th>\n",
       "      <td>S. Tonali</td>\n",
       "      <td>90</td>\n",
       "    </tr>\n",
       "    <tr>\n",
       "      <th>40</th>\n",
       "      <td>P. Foden</td>\n",
       "      <td>92</td>\n",
       "    </tr>\n",
       "    <tr>\n",
       "      <th>42</th>\n",
       "      <td>F. Wirtz</td>\n",
       "      <td>90</td>\n",
       "    </tr>\n",
       "    <tr>\n",
       "      <th>45</th>\n",
       "      <td>K. Benzema</td>\n",
       "      <td>91</td>\n",
       "    </tr>\n",
       "    <tr>\n",
       "      <th>239</th>\n",
       "      <td>K. Havertz</td>\n",
       "      <td>91</td>\n",
       "    </tr>\n",
       "    <tr>\n",
       "      <th>539</th>\n",
       "      <td>F. de Jong</td>\n",
       "      <td>92</td>\n",
       "    </tr>\n",
       "    <tr>\n",
       "      <th>777</th>\n",
       "      <td>T. Alexander-Arnold</td>\n",
       "      <td>90</td>\n",
       "    </tr>\n",
       "  </tbody>\n",
       "</table>\n",
       "</div>"
      ],
      "text/plain": [
       "                    Name  POT\n",
       "12           Rafael Leão   90\n",
       "15     Cristiano Ronaldo   91\n",
       "19           D. Vlahović   90\n",
       "21              L. Messi   92\n",
       "22                 Pedri   92\n",
       "23             K. Mbappé   95\n",
       "26         J. Bellingham   90\n",
       "32        R. Gravenberch   90\n",
       "33          Vinícius Jr.   91\n",
       "35            E. Haaland   94\n",
       "36             S. Tonali   90\n",
       "40              P. Foden   92\n",
       "42              F. Wirtz   90\n",
       "45            K. Benzema   91\n",
       "239           K. Havertz   91\n",
       "539           F. de Jong   92\n",
       "777  T. Alexander-Arnold   90"
      ]
     },
     "execution_count": 33,
     "metadata": {},
     "output_type": "execute_result"
    }
   ],
   "source": [
    "fifa[fifa[\"POT\"]>=90][['Name','POT']]"
   ]
  },
  {
   "cell_type": "markdown",
   "metadata": {},
   "source": [
    "* The players who potential is more than 90 and age is less than 20"
   ]
  },
  {
   "cell_type": "code",
   "execution_count": 38,
   "metadata": {},
   "outputs": [
    {
     "data": {
      "text/html": [
       "<div>\n",
       "<style scoped>\n",
       "    .dataframe tbody tr th:only-of-type {\n",
       "        vertical-align: middle;\n",
       "    }\n",
       "\n",
       "    .dataframe tbody tr th {\n",
       "        vertical-align: top;\n",
       "    }\n",
       "\n",
       "    .dataframe thead th {\n",
       "        text-align: right;\n",
       "    }\n",
       "</style>\n",
       "<table border=\"1\" class=\"dataframe\">\n",
       "  <thead>\n",
       "    <tr style=\"text-align: right;\">\n",
       "      <th></th>\n",
       "      <th>Name</th>\n",
       "      <th>Age</th>\n",
       "      <th>OVA</th>\n",
       "      <th>POT</th>\n",
       "      <th>Team</th>\n",
       "      <th>Value (M$)</th>\n",
       "      <th>Wage (K$)</th>\n",
       "      <th>Total</th>\n",
       "    </tr>\n",
       "  </thead>\n",
       "  <tbody>\n",
       "    <tr>\n",
       "      <th>22</th>\n",
       "      <td>Pedri</td>\n",
       "      <td>18</td>\n",
       "      <td>84</td>\n",
       "      <td>92</td>\n",
       "      <td>FC Barcelona</td>\n",
       "      <td>88.5</td>\n",
       "      <td>66</td>\n",
       "      <td>2096</td>\n",
       "    </tr>\n",
       "  </tbody>\n",
       "</table>\n",
       "</div>"
      ],
      "text/plain": [
       "     Name  Age  OVA  POT          Team  Value (M$)  Wage (K$)  Total\n",
       "22  Pedri   18   84   92  FC Barcelona        88.5         66   2096"
      ]
     },
     "execution_count": 38,
     "metadata": {},
     "output_type": "execute_result"
    }
   ],
   "source": [
    "fifa[(fifa['POT']>90) & (fifa['Age']<20)]"
   ]
  },
  {
   "cell_type": "markdown",
   "metadata": {},
   "source": [
    "* The players whose Value is greater than 10 and Wage is less than 50"
   ]
  },
  {
   "cell_type": "code",
   "execution_count": 40,
   "metadata": {},
   "outputs": [
    {
     "data": {
      "text/html": [
       "<div>\n",
       "<style scoped>\n",
       "    .dataframe tbody tr th:only-of-type {\n",
       "        vertical-align: middle;\n",
       "    }\n",
       "\n",
       "    .dataframe tbody tr th {\n",
       "        vertical-align: top;\n",
       "    }\n",
       "\n",
       "    .dataframe thead th {\n",
       "        text-align: right;\n",
       "    }\n",
       "</style>\n",
       "<table border=\"1\" class=\"dataframe\">\n",
       "  <thead>\n",
       "    <tr style=\"text-align: right;\">\n",
       "      <th></th>\n",
       "      <th>Name</th>\n",
       "      <th>Age</th>\n",
       "      <th>OVA</th>\n",
       "      <th>POT</th>\n",
       "      <th>Team</th>\n",
       "      <th>Value (M$)</th>\n",
       "      <th>Wage (K$)</th>\n",
       "      <th>Total</th>\n",
       "    </tr>\n",
       "  </thead>\n",
       "  <tbody>\n",
       "    <tr>\n",
       "      <th>1</th>\n",
       "      <td>Gavi</td>\n",
       "      <td>16</td>\n",
       "      <td>77</td>\n",
       "      <td>89</td>\n",
       "      <td>FC Barcelona</td>\n",
       "      <td>24.0</td>\n",
       "      <td>14</td>\n",
       "      <td>1970</td>\n",
       "    </tr>\n",
       "    <tr>\n",
       "      <th>4</th>\n",
       "      <td>L. Geertruida</td>\n",
       "      <td>20</td>\n",
       "      <td>76</td>\n",
       "      <td>84</td>\n",
       "      <td>Feyenoord</td>\n",
       "      <td>15.5</td>\n",
       "      <td>8</td>\n",
       "      <td>1882</td>\n",
       "    </tr>\n",
       "    <tr>\n",
       "      <th>5</th>\n",
       "      <td>A. Tchouaméni</td>\n",
       "      <td>21</td>\n",
       "      <td>81</td>\n",
       "      <td>88</td>\n",
       "      <td>AS Monaco</td>\n",
       "      <td>52.0</td>\n",
       "      <td>46</td>\n",
       "      <td>2141</td>\n",
       "    </tr>\n",
       "    <tr>\n",
       "      <th>6</th>\n",
       "      <td>O. Kökçü</td>\n",
       "      <td>20</td>\n",
       "      <td>78</td>\n",
       "      <td>85</td>\n",
       "      <td>Feyenoord</td>\n",
       "      <td>27.5</td>\n",
       "      <td>10</td>\n",
       "      <td>2058</td>\n",
       "    </tr>\n",
       "    <tr>\n",
       "      <th>7</th>\n",
       "      <td>D. Núñez</td>\n",
       "      <td>22</td>\n",
       "      <td>78</td>\n",
       "      <td>86</td>\n",
       "      <td>SL Benfica</td>\n",
       "      <td>32.0</td>\n",
       "      <td>15</td>\n",
       "      <td>1987</td>\n",
       "    </tr>\n",
       "    <tr>\n",
       "      <th>8</th>\n",
       "      <td>D. Kamada</td>\n",
       "      <td>24</td>\n",
       "      <td>79</td>\n",
       "      <td>82</td>\n",
       "      <td>Eintracht Frankfurt</td>\n",
       "      <td>24.0</td>\n",
       "      <td>29</td>\n",
       "      <td>1951</td>\n",
       "    </tr>\n",
       "    <tr>\n",
       "      <th>9</th>\n",
       "      <td>J. Gvardiol</td>\n",
       "      <td>19</td>\n",
       "      <td>79</td>\n",
       "      <td>89</td>\n",
       "      <td>RB Leipzig</td>\n",
       "      <td>35.5</td>\n",
       "      <td>35</td>\n",
       "      <td>2017</td>\n",
       "    </tr>\n",
       "    <tr>\n",
       "      <th>11</th>\n",
       "      <td>J. Timber</td>\n",
       "      <td>20</td>\n",
       "      <td>79</td>\n",
       "      <td>88</td>\n",
       "      <td>Ajax</td>\n",
       "      <td>36.0</td>\n",
       "      <td>13</td>\n",
       "      <td>1935</td>\n",
       "    </tr>\n",
       "    <tr>\n",
       "      <th>13</th>\n",
       "      <td>N. Schlotterbeck</td>\n",
       "      <td>21</td>\n",
       "      <td>80</td>\n",
       "      <td>86</td>\n",
       "      <td>Sport-Club Freiburg</td>\n",
       "      <td>31.0</td>\n",
       "      <td>23</td>\n",
       "      <td>1839</td>\n",
       "    </tr>\n",
       "    <tr>\n",
       "      <th>16</th>\n",
       "      <td>L. Sinisterra</td>\n",
       "      <td>22</td>\n",
       "      <td>78</td>\n",
       "      <td>84</td>\n",
       "      <td>Feyenoord</td>\n",
       "      <td>22.5</td>\n",
       "      <td>13</td>\n",
       "      <td>2009</td>\n",
       "    </tr>\n",
       "    <tr>\n",
       "      <th>20</th>\n",
       "      <td>N. Madueke</td>\n",
       "      <td>19</td>\n",
       "      <td>77</td>\n",
       "      <td>88</td>\n",
       "      <td>PSV</td>\n",
       "      <td>23.0</td>\n",
       "      <td>11</td>\n",
       "      <td>1897</td>\n",
       "    </tr>\n",
       "    <tr>\n",
       "      <th>26</th>\n",
       "      <td>J. Bellingham</td>\n",
       "      <td>18</td>\n",
       "      <td>82</td>\n",
       "      <td>90</td>\n",
       "      <td>Borussia Dortmund</td>\n",
       "      <td>64.0</td>\n",
       "      <td>25</td>\n",
       "      <td>2152</td>\n",
       "    </tr>\n",
       "    <tr>\n",
       "      <th>27</th>\n",
       "      <td>Antony</td>\n",
       "      <td>21</td>\n",
       "      <td>82</td>\n",
       "      <td>89</td>\n",
       "      <td>Ajax</td>\n",
       "      <td>62.0</td>\n",
       "      <td>21</td>\n",
       "      <td>2005</td>\n",
       "    </tr>\n",
       "    <tr>\n",
       "      <th>28</th>\n",
       "      <td>Gonçalo Inácio</td>\n",
       "      <td>19</td>\n",
       "      <td>78</td>\n",
       "      <td>87</td>\n",
       "      <td>Sporting CP</td>\n",
       "      <td>28.5</td>\n",
       "      <td>8</td>\n",
       "      <td>1755</td>\n",
       "    </tr>\n",
       "    <tr>\n",
       "      <th>30</th>\n",
       "      <td>M. Guéhi</td>\n",
       "      <td>20</td>\n",
       "      <td>76</td>\n",
       "      <td>85</td>\n",
       "      <td>Crystal Palace</td>\n",
       "      <td>15.5</td>\n",
       "      <td>32</td>\n",
       "      <td>1718</td>\n",
       "    </tr>\n",
       "    <tr>\n",
       "      <th>31</th>\n",
       "      <td>G. Scamacca</td>\n",
       "      <td>22</td>\n",
       "      <td>78</td>\n",
       "      <td>84</td>\n",
       "      <td>U.S. Sassuolo Calcio</td>\n",
       "      <td>23.0</td>\n",
       "      <td>34</td>\n",
       "      <td>1856</td>\n",
       "    </tr>\n",
       "    <tr>\n",
       "      <th>32</th>\n",
       "      <td>R. Gravenberch</td>\n",
       "      <td>19</td>\n",
       "      <td>78</td>\n",
       "      <td>90</td>\n",
       "      <td>Ajax</td>\n",
       "      <td>33.0</td>\n",
       "      <td>11</td>\n",
       "      <td>2085</td>\n",
       "    </tr>\n",
       "    <tr>\n",
       "      <th>36</th>\n",
       "      <td>S. Tonali</td>\n",
       "      <td>21</td>\n",
       "      <td>82</td>\n",
       "      <td>90</td>\n",
       "      <td>AC Milan</td>\n",
       "      <td>64.5</td>\n",
       "      <td>35</td>\n",
       "      <td>2205</td>\n",
       "    </tr>\n",
       "    <tr>\n",
       "      <th>39</th>\n",
       "      <td>Vitinha</td>\n",
       "      <td>21</td>\n",
       "      <td>77</td>\n",
       "      <td>87</td>\n",
       "      <td>FC Porto</td>\n",
       "      <td>23.5</td>\n",
       "      <td>11</td>\n",
       "      <td>1992</td>\n",
       "    </tr>\n",
       "    <tr>\n",
       "      <th>41</th>\n",
       "      <td>C. De Ketelaere</td>\n",
       "      <td>20</td>\n",
       "      <td>77</td>\n",
       "      <td>87</td>\n",
       "      <td>Club Brugge KV</td>\n",
       "      <td>23.5</td>\n",
       "      <td>22</td>\n",
       "      <td>2055</td>\n",
       "    </tr>\n",
       "    <tr>\n",
       "      <th>42</th>\n",
       "      <td>F. Wirtz</td>\n",
       "      <td>18</td>\n",
       "      <td>82</td>\n",
       "      <td>90</td>\n",
       "      <td>Bayer 04 Leverkusen</td>\n",
       "      <td>64.0</td>\n",
       "      <td>24</td>\n",
       "      <td>1989</td>\n",
       "    </tr>\n",
       "    <tr>\n",
       "      <th>44</th>\n",
       "      <td>Pau Torres</td>\n",
       "      <td>24</td>\n",
       "      <td>82</td>\n",
       "      <td>89</td>\n",
       "      <td>Villarreal CF</td>\n",
       "      <td>56.5</td>\n",
       "      <td>35</td>\n",
       "      <td>1884</td>\n",
       "    </tr>\n",
       "    <tr>\n",
       "      <th>51</th>\n",
       "      <td>N. Mazraoui</td>\n",
       "      <td>23</td>\n",
       "      <td>82</td>\n",
       "      <td>86</td>\n",
       "      <td>Ajax</td>\n",
       "      <td>40.5</td>\n",
       "      <td>20</td>\n",
       "      <td>2091</td>\n",
       "    </tr>\n",
       "    <tr>\n",
       "      <th>55</th>\n",
       "      <td>Pedro Gonçalves</td>\n",
       "      <td>23</td>\n",
       "      <td>81</td>\n",
       "      <td>88</td>\n",
       "      <td>Sporting CP</td>\n",
       "      <td>51.5</td>\n",
       "      <td>19</td>\n",
       "      <td>2089</td>\n",
       "    </tr>\n",
       "    <tr>\n",
       "      <th>56</th>\n",
       "      <td>E. Camavinga</td>\n",
       "      <td>18</td>\n",
       "      <td>79</td>\n",
       "      <td>89</td>\n",
       "      <td>Real Madrid CF</td>\n",
       "      <td>37.0</td>\n",
       "      <td>48</td>\n",
       "      <td>2109</td>\n",
       "    </tr>\n",
       "    <tr>\n",
       "      <th>419</th>\n",
       "      <td>T. Malacia</td>\n",
       "      <td>21</td>\n",
       "      <td>78</td>\n",
       "      <td>83</td>\n",
       "      <td>Feyenoord</td>\n",
       "      <td>20.0</td>\n",
       "      <td>9</td>\n",
       "      <td>1955</td>\n",
       "    </tr>\n",
       "    <tr>\n",
       "      <th>599</th>\n",
       "      <td>B. Kamara</td>\n",
       "      <td>21</td>\n",
       "      <td>80</td>\n",
       "      <td>86</td>\n",
       "      <td>Olympique de Marseille</td>\n",
       "      <td>31.0</td>\n",
       "      <td>30</td>\n",
       "      <td>1987</td>\n",
       "    </tr>\n",
       "    <tr>\n",
       "      <th>659</th>\n",
       "      <td>J. Lindstrøm</td>\n",
       "      <td>21</td>\n",
       "      <td>75</td>\n",
       "      <td>84</td>\n",
       "      <td>Eintracht Frankfurt</td>\n",
       "      <td>12.5</td>\n",
       "      <td>19</td>\n",
       "      <td>1897</td>\n",
       "    </tr>\n",
       "    <tr>\n",
       "      <th>898</th>\n",
       "      <td>J. Musiala</td>\n",
       "      <td>18</td>\n",
       "      <td>79</td>\n",
       "      <td>89</td>\n",
       "      <td>FC Bayern München</td>\n",
       "      <td>37.0</td>\n",
       "      <td>26</td>\n",
       "      <td>1911</td>\n",
       "    </tr>\n",
       "    <tr>\n",
       "      <th>899</th>\n",
       "      <td>E. Fernández</td>\n",
       "      <td>20</td>\n",
       "      <td>76</td>\n",
       "      <td>85</td>\n",
       "      <td>River Plate</td>\n",
       "      <td>16.5</td>\n",
       "      <td>13</td>\n",
       "      <td>2081</td>\n",
       "    </tr>\n",
       "    <tr>\n",
       "      <th>958</th>\n",
       "      <td>T. Almada</td>\n",
       "      <td>20</td>\n",
       "      <td>75</td>\n",
       "      <td>86</td>\n",
       "      <td>Atlanta United</td>\n",
       "      <td>12.5</td>\n",
       "      <td>7</td>\n",
       "      <td>1999</td>\n",
       "    </tr>\n",
       "    <tr>\n",
       "      <th>1017</th>\n",
       "      <td>E. Ndicka</td>\n",
       "      <td>21</td>\n",
       "      <td>80</td>\n",
       "      <td>85</td>\n",
       "      <td>Eintracht Frankfurt</td>\n",
       "      <td>29.5</td>\n",
       "      <td>23</td>\n",
       "      <td>1939</td>\n",
       "    </tr>\n",
       "    <tr>\n",
       "      <th>1079</th>\n",
       "      <td>J. Frimpong</td>\n",
       "      <td>20</td>\n",
       "      <td>78</td>\n",
       "      <td>85</td>\n",
       "      <td>Bayer 04 Leverkusen</td>\n",
       "      <td>26.5</td>\n",
       "      <td>33</td>\n",
       "      <td>1996</td>\n",
       "    </tr>\n",
       "  </tbody>\n",
       "</table>\n",
       "</div>"
      ],
      "text/plain": [
       "                  Name  Age  OVA  POT                    Team  Value (M$)  \\\n",
       "1                 Gavi   16   77   89            FC Barcelona        24.0   \n",
       "4        L. Geertruida   20   76   84               Feyenoord        15.5   \n",
       "5        A. Tchouaméni   21   81   88               AS Monaco        52.0   \n",
       "6             O. Kökçü   20   78   85               Feyenoord        27.5   \n",
       "7             D. Núñez   22   78   86              SL Benfica        32.0   \n",
       "8            D. Kamada   24   79   82     Eintracht Frankfurt        24.0   \n",
       "9          J. Gvardiol   19   79   89              RB Leipzig        35.5   \n",
       "11           J. Timber   20   79   88                    Ajax        36.0   \n",
       "13    N. Schlotterbeck   21   80   86     Sport-Club Freiburg        31.0   \n",
       "16       L. Sinisterra   22   78   84               Feyenoord        22.5   \n",
       "20          N. Madueke   19   77   88                     PSV        23.0   \n",
       "26       J. Bellingham   18   82   90       Borussia Dortmund        64.0   \n",
       "27              Antony   21   82   89                    Ajax        62.0   \n",
       "28      Gonçalo Inácio   19   78   87             Sporting CP        28.5   \n",
       "30            M. Guéhi   20   76   85          Crystal Palace        15.5   \n",
       "31         G. Scamacca   22   78   84    U.S. Sassuolo Calcio        23.0   \n",
       "32      R. Gravenberch   19   78   90                    Ajax        33.0   \n",
       "36           S. Tonali   21   82   90                AC Milan        64.5   \n",
       "39             Vitinha   21   77   87                FC Porto        23.5   \n",
       "41     C. De Ketelaere   20   77   87          Club Brugge KV        23.5   \n",
       "42            F. Wirtz   18   82   90     Bayer 04 Leverkusen        64.0   \n",
       "44          Pau Torres   24   82   89           Villarreal CF        56.5   \n",
       "51         N. Mazraoui   23   82   86                    Ajax        40.5   \n",
       "55     Pedro Gonçalves   23   81   88             Sporting CP        51.5   \n",
       "56        E. Camavinga   18   79   89          Real Madrid CF        37.0   \n",
       "419         T. Malacia   21   78   83               Feyenoord        20.0   \n",
       "599          B. Kamara   21   80   86  Olympique de Marseille        31.0   \n",
       "659       J. Lindstrøm   21   75   84     Eintracht Frankfurt        12.5   \n",
       "898         J. Musiala   18   79   89       FC Bayern München        37.0   \n",
       "899       E. Fernández   20   76   85             River Plate        16.5   \n",
       "958          T. Almada   20   75   86          Atlanta United        12.5   \n",
       "1017         E. Ndicka   21   80   85     Eintracht Frankfurt        29.5   \n",
       "1079       J. Frimpong   20   78   85     Bayer 04 Leverkusen        26.5   \n",
       "\n",
       "      Wage (K$)  Total  \n",
       "1            14   1970  \n",
       "4             8   1882  \n",
       "5            46   2141  \n",
       "6            10   2058  \n",
       "7            15   1987  \n",
       "8            29   1951  \n",
       "9            35   2017  \n",
       "11           13   1935  \n",
       "13           23   1839  \n",
       "16           13   2009  \n",
       "20           11   1897  \n",
       "26           25   2152  \n",
       "27           21   2005  \n",
       "28            8   1755  \n",
       "30           32   1718  \n",
       "31           34   1856  \n",
       "32           11   2085  \n",
       "36           35   2205  \n",
       "39           11   1992  \n",
       "41           22   2055  \n",
       "42           24   1989  \n",
       "44           35   1884  \n",
       "51           20   2091  \n",
       "55           19   2089  \n",
       "56           48   2109  \n",
       "419           9   1955  \n",
       "599          30   1987  \n",
       "659          19   1897  \n",
       "898          26   1911  \n",
       "899          13   2081  \n",
       "958           7   1999  \n",
       "1017         23   1939  \n",
       "1079         33   1996  "
      ]
     },
     "execution_count": 40,
     "metadata": {},
     "output_type": "execute_result"
    }
   ],
   "source": [
    "fifa[(fifa['Value (M$)']>10) & (fifa['Wage (K$)']<50)]"
   ]
  },
  {
   "cell_type": "markdown",
   "metadata": {},
   "source": [
    "* HeatMap Correlation\n"
   ]
  },
  {
   "cell_type": "code",
   "execution_count": 46,
   "metadata": {},
   "outputs": [
    {
     "data": {
      "text/plain": [
       "<AxesSubplot:>"
      ]
     },
     "execution_count": 46,
     "metadata": {},
     "output_type": "execute_result"
    },
    {
     "data": {
      "image/png": "[encoded data removed]",
      "text/plain": [
       "<Figure size 576x576 with 2 Axes>"
      ]
     },
     "metadata": {
      "needs_background": "light"
     },
     "output_type": "display_data"
    }
   ],
   "source": [
    "plt.figure(figsize=(8,8))\n",
    "sns.heatmap(fifa.corr(), annot=True)"
   ]
  }
 ],
 "metadata": {
  "interpreter": {
   "hash": "cb4a6ece8dc9cf1f5b1565d05f1a189d257ecb16f7f86b5ca0cc8563c18481dc"
  },
  "kernelspec": {
   "display_name": "Python 3.9.7 ('base')",
   "language": "python",
   "name": "python3"
  },
  "language_info": {
   "codemirror_mode": {
    "name": "ipython",
    "version": 3
   },
   "file_extension": ".py",
   "mimetype": "text/x-python",
   "name": "python",
   "nbconvert_exporter": "python",
   "pygments_lexer": "ipython3",
   "version": "3.9.7"
  },
  "orig_nbformat": 4
 },
 "nbformat": 4,
 "nbformat_minor": 2
}

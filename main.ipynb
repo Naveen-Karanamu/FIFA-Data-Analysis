{
 "cells": [
  {
   "cell_type": "markdown",
   "metadata": {},
   "source": [
    "# FIFA DataSet Analysis"
   ]
  },
  {
   "cell_type": "markdown",
   "metadata": {},
   "source": [
    "\n",
    "* Importing Libraries"
   ]
  },
  {
   "cell_type": "code",
   "execution_count": 283,
   "metadata": {},
   "outputs": [],
   "source": [
    "#Numpy\n",
    "import numpy as np\n",
    "\n",
    "# Pandas\n",
    "import pandas as pd\n",
    "\n",
    "# BeautifulSoup\n",
    "from bs4 import BeautifulSoup\n",
    "\n",
    "# Requests\n",
    "import requests\n",
    "\n",
    "# Reges\n",
    "import regex as re \n"
   ]
  },
  {
   "cell_type": "markdown",
   "metadata": {},
   "source": [
    "* Web Scrapping\n"
   ]
  },
  {
   "cell_type": "code",
   "execution_count": 284,
   "metadata": {},
   "outputs": [
    {
     "data": {
      "text/plain": [
       "<Response [200]>"
      ]
     },
     "execution_count": 284,
     "metadata": {},
     "output_type": "execute_result"
    }
   ],
   "source": [
    "req=requests.get(\"https://sofifa.com/players?offset=1\")\n",
    "req"
   ]
  },
  {
   "cell_type": "markdown",
   "metadata": {},
   "source": [
    "* BeautifulSoup"
   ]
  },
  {
   "cell_type": "code",
   "execution_count": 285,
   "metadata": {},
   "outputs": [],
   "source": [
    "soup=BeautifulSoup(req.content)"
   ]
  },
  {
   "cell_type": "code",
   "execution_count": 286,
   "metadata": {},
   "outputs": [],
   "source": [
    "# Adding the attributes to the array\n",
    "arr=[]\n",
    "for i in soup.findAll('td'):\n",
    "    arr.append(str(i))"
   ]
  },
  {
   "cell_type": "markdown",
   "metadata": {},
   "source": [
    "* Cleaning Image URL"
   ]
  },
  {
   "cell_type": "code",
   "execution_count": 287,
   "metadata": {},
   "outputs": [
    {
     "data": {
      "text/plain": [
       "'https://cdn.sofifa.net/players/253/537/22_60.png'"
      ]
     },
     "execution_count": 287,
     "metadata": {},
     "output_type": "execute_result"
    }
   ],
   "source": [
    "clean_img=re.sub('<td.*\\n.*data-src=.|\".*',\"\",arr[0])\n",
    "clean_img"
   ]
  },
  {
   "cell_type": "code",
   "execution_count": 288,
   "metadata": {},
   "outputs": [
    {
     "data": {
      "text/plain": [
       "'<td class=\"col-avatar\" data-balloon=\"Click here!\" data-balloon-pos=\"up\" data-balloon-visible=\"\"><figure class=\"avatar\">\\n<img alt=\"\" class=\"player-check\" data-root=\"https://cdn.sofifa.net/players/\" data-src=\"https://cdn.sofifa.net/players/253/537/22_60.png\" data-srcset=\"https://cdn.sofifa.net/players/253/537/22_120.png 2x, https://cdn.sofifa.net/players/253/537/22_180.png 3x\" data-type=\"player\" id=\"253537\" src=\"https://cdn.sofifa.net/players/notfound_0_60.png\"/></figure></td>'"
      ]
     },
     "execution_count": 288,
     "metadata": {},
     "output_type": "execute_result"
    }
   ],
   "source": [
    "# The row is from 0-8\n",
    "arr[0]"
   ]
  },
  {
   "cell_type": "markdown",
   "metadata": {},
   "source": [
    "* Cleaning Name"
   ]
  },
  {
   "cell_type": "code",
   "execution_count": 289,
   "metadata": {},
   "outputs": [
    {
     "data": {
      "text/plain": [
       "'B. Castillo'"
      ]
     },
     "execution_count": 289,
     "metadata": {},
     "output_type": "execute_result"
    }
   ],
   "source": [
    "clean_name=re.sub('<td.*\\n.*s\">|<\\/div.*>',\"\",arr[1])\n",
    "clean_name"
   ]
  },
  {
   "cell_type": "markdown",
   "metadata": {},
   "source": [
    "* Cleaning Age"
   ]
  },
  {
   "cell_type": "code",
   "execution_count": 290,
   "metadata": {},
   "outputs": [
    {
     "data": {
      "text/plain": [
       "'21'"
      ]
     },
     "execution_count": 290,
     "metadata": {},
     "output_type": "execute_result"
    }
   ],
   "source": [
    "clean_age=re.sub('<td.*e\">|<.*>',\"\",arr[11])\n",
    "clean_age"
   ]
  },
  {
   "cell_type": "markdown",
   "metadata": {},
   "source": [
    "* Cleaning OVA"
   ]
  },
  {
   "cell_type": "code",
   "execution_count": 291,
   "metadata": {},
   "outputs": [
    {
     "data": {
      "text/plain": [
       "'76'"
      ]
     },
     "execution_count": 291,
     "metadata": {},
     "output_type": "execute_result"
    }
   ],
   "source": [
    "clean_ova=re.sub('<td.*p.*\">|<.*>',\"\",arr[3])\n",
    "clean_ova"
   ]
  },
  {
   "cell_type": "markdown",
   "metadata": {},
   "source": [
    "* Cleaning POT"
   ]
  },
  {
   "cell_type": "code",
   "execution_count": 316,
   "metadata": {},
   "outputs": [
    {
     "data": {
      "text/plain": [
       "'81'"
      ]
     },
     "execution_count": 316,
     "metadata": {},
     "output_type": "execute_result"
    }
   ],
   "source": [
    "clean_pot=re.sub('<td.*p.*\">|<.*>',\"\",arr[4])\n",
    "clean_pot"
   ]
  },
  {
   "cell_type": "markdown",
   "metadata": {},
   "source": [
    "* Cleaning Team & Contract"
   ]
  },
  {
   "cell_type": "code",
   "execution_count": 293,
   "metadata": {},
   "outputs": [
    {
     "data": {
      "text/plain": [
       "'Barcelona Sporting Club'"
      ]
     },
     "execution_count": 293,
     "metadata": {},
     "output_type": "execute_result"
    }
   ],
   "source": [
    "clean_team=re.sub('<td.*\\n<d.*\\n<i.*\\n</f.*\\n.*/\">|<.*\\n.*>\\n.*>\\n.*>',\"\",arr[5])\n",
    "clean_team"
   ]
  },
  {
   "cell_type": "markdown",
   "metadata": {},
   "source": [
    "* Cleaning Value"
   ]
  },
  {
   "cell_type": "code",
   "execution_count": 294,
   "metadata": {},
   "outputs": [
    {
     "data": {
      "text/plain": [
       "'€11M'"
      ]
     },
     "execution_count": 294,
     "metadata": {},
     "output_type": "execute_result"
    }
   ],
   "source": [
    "clean_value=re.sub('<td.*\">|<.*>',\"\",arr[6])\n",
    "clean_value"
   ]
  },
  {
   "cell_type": "markdown",
   "metadata": {},
   "source": [
    "* Cleaning Wage"
   ]
  },
  {
   "cell_type": "code",
   "execution_count": 295,
   "metadata": {},
   "outputs": [
    {
     "data": {
      "text/plain": [
       "'€1K'"
      ]
     },
     "execution_count": 295,
     "metadata": {},
     "output_type": "execute_result"
    }
   ],
   "source": [
    "clean_wage=re.sub('<td.*\">|<.*>',\"\",arr[7])\n",
    "clean_wage"
   ]
  },
  {
   "cell_type": "markdown",
   "metadata": {},
   "source": [
    "* Cleaning Total"
   ]
  },
  {
   "cell_type": "code",
   "execution_count": 296,
   "metadata": {},
   "outputs": [
    {
     "data": {
      "text/plain": [
       "'1898'"
      ]
     },
     "execution_count": 296,
     "metadata": {},
     "output_type": "execute_result"
    }
   ],
   "source": [
    "clean_total=re.sub('<td.*\">|<.*>',\"\",arr[8])\n",
    "clean_total"
   ]
  },
  {
   "cell_type": "markdown",
   "metadata": {},
   "source": [
    "* Looping through the data"
   ]
  },
  {
   "cell_type": "code",
   "execution_count": 323,
   "metadata": {},
   "outputs": [],
   "source": [
    "#0-8\n",
    "img=[]\n",
    "name=[]\n",
    "age=[]\n",
    "ova=[]\n",
    "pot=[]\n",
    "team=[]\n",
    "value=[]\n",
    "wage=[]\n",
    "total=[]\n",
    "\n",
    "count=0\n",
    "for j in range(1,20):\n",
    "    url=f\"https://sofifa.com/players?offset=1{j}\"\n",
    "    req=requests.get(url)\n",
    "    soup=BeautifulSoup(req.content)\n",
    "    \n",
    "    for i in soup.findAll('td'):\n",
    "        clean_img=re.sub('<td.*\\n.*data-src=.|\".*',\"\",str(i))\n",
    "        clean_name=re.sub('<td.*\\n.*s\">|<\\/div.*>',\"\",str(i))\n",
    "        clean_age=re.sub('<td.*e\">|<.*>',\"\",str(i))\n",
    "        clean_ova=re.sub('<td.*p.*\">|<.*>',\"\",str(i))\n",
    "        clean_pot=re.sub('<td.*p.*\">|<.*>',\"\",str(i))\n",
    "        clean_team=re.sub('<td.*\\n<d.*\\n<i.*\\n</f.*\\n.*/\">|<.*\\n.*>\\n.*>\\n.*>',\"\",str(i))\n",
    "        clean_value=re.sub('<td.*\">.|.<.*>',\"\",str(i))\n",
    "        clean_wage=re.sub('<td.*\">.|.<.*>',\"\",str(i))\n",
    "        clean_total=re.sub('<td.*\">|<.*>',\"\",str(i))\n",
    "        \n",
    "        if count==0:\n",
    "            img.append(clean_img)\n",
    "            count+=1\n",
    "        elif count==1:\n",
    "            name.append(clean_name)\n",
    "            count+=1\n",
    "        elif count==2:\n",
    "            age.append(clean_age)\n",
    "            count+=1\n",
    "        elif count==3:\n",
    "            ova.append(clean_ova)\n",
    "            count+=1\n",
    "        elif count==4:\n",
    "            pot.append(clean_pot)\n",
    "            count+=1\n",
    "        elif count==5:\n",
    "            team.append(clean_team)\n",
    "            count+=1\n",
    "        elif count==6:\n",
    "            value.append(clean_value)\n",
    "            count+=1\n",
    "        elif count==7:\n",
    "            wage.append(clean_wage)\n",
    "            count+=1\n",
    "        else:\n",
    "            count=0\n",
    "            total.append(clean_total)\n",
    "        \n"
   ]
  },
  {
   "cell_type": "code",
   "execution_count": 331,
   "metadata": {},
   "outputs": [],
   "source": [
    "fifa=pd.DataFrame({'Image':img,'Name':name,'Age':age,'OVA':ova,'POT':pot,'Team':team,'Value (M$)':value,'Wage (K$)':wage,'Total':total})\n",
    "fifa['Age']=pd.to_numeric(fifa['Age'])\n",
    "fifa['OVA']=pd.to_numeric(fifa['OVA'])\n",
    "fifa['POT']=pd.to_numeric(fifa['POT'])\n",
    "fifa['Value (M$)']=pd.to_numeric(fifa['Value (M$)'])\n",
    "fifa['Wage (K$)']=pd.to_numeric(fifa['Wage (K$)'])\n",
    "fifa['Total']=pd.to_numeric(fifa['Total'])"
   ]
  },
  {
   "cell_type": "code",
   "execution_count": 328,
   "metadata": {},
   "outputs": [
    {
     "name": "stdout",
     "output_type": "stream",
     "text": [
      "<class 'pandas.core.frame.DataFrame'>\n",
      "RangeIndex: 1140 entries, 0 to 1139\n",
      "Data columns (total 9 columns):\n",
      " #   Column  Non-Null Count  Dtype  \n",
      "---  ------  --------------  -----  \n",
      " 0   Image   1140 non-null   object \n",
      " 1   Name    1140 non-null   object \n",
      " 2   Age     1140 non-null   int64  \n",
      " 3   OVA     1140 non-null   int64  \n",
      " 4   POT     1140 non-null   int64  \n",
      " 5   Team    1140 non-null   object \n",
      " 6   Value   1140 non-null   float64\n",
      " 7   Wage    1140 non-null   int64  \n",
      " 8   Total   1140 non-null   int64  \n",
      "dtypes: float64(1), int64(5), object(3)\n",
      "memory usage: 80.3+ KB\n"
     ]
    }
   ],
   "source": [
    "fifa.info()"
   ]
  },
  {
   "cell_type": "code",
   "execution_count": 332,
   "metadata": {},
   "outputs": [
    {
     "data": {
      "text/html": [
       "<div>\n",
       "<style scoped>\n",
       "    .dataframe tbody tr th:only-of-type {\n",
       "        vertical-align: middle;\n",
       "    }\n",
       "\n",
       "    .dataframe tbody tr th {\n",
       "        vertical-align: top;\n",
       "    }\n",
       "\n",
       "    .dataframe thead th {\n",
       "        text-align: right;\n",
       "    }\n",
       "</style>\n",
       "<table border=\"1\" class=\"dataframe\">\n",
       "  <thead>\n",
       "    <tr style=\"text-align: right;\">\n",
       "      <th></th>\n",
       "      <th>Image</th>\n",
       "      <th>Name</th>\n",
       "      <th>Age</th>\n",
       "      <th>OVA</th>\n",
       "      <th>POT</th>\n",
       "      <th>Team</th>\n",
       "      <th>Value (M$)</th>\n",
       "      <th>Wage (K$)</th>\n",
       "      <th>Total</th>\n",
       "    </tr>\n",
       "  </thead>\n",
       "  <tbody>\n",
       "    <tr>\n",
       "      <th>0</th>\n",
       "      <td>https://cdn.sofifa.net/players/158/023/22_60.png</td>\n",
       "      <td>L. Messi</td>\n",
       "      <td>34</td>\n",
       "      <td>92</td>\n",
       "      <td>92</td>\n",
       "      <td>Paris Saint-Germain</td>\n",
       "      <td>69.5</td>\n",
       "      <td>290</td>\n",
       "      <td>2206</td>\n",
       "    </tr>\n",
       "    <tr>\n",
       "      <th>1</th>\n",
       "      <td>https://cdn.sofifa.net/players/237/692/22_60.png</td>\n",
       "      <td>P. Foden</td>\n",
       "      <td>21</td>\n",
       "      <td>84</td>\n",
       "      <td>92</td>\n",
       "      <td>Manchester City</td>\n",
       "      <td>94.5</td>\n",
       "      <td>140</td>\n",
       "      <td>2073</td>\n",
       "    </tr>\n",
       "    <tr>\n",
       "      <th>2</th>\n",
       "      <td>https://cdn.sofifa.net/players/251/805/22_60.png</td>\n",
       "      <td>J. Timber</td>\n",
       "      <td>20</td>\n",
       "      <td>79</td>\n",
       "      <td>88</td>\n",
       "      <td>Ajax</td>\n",
       "      <td>36.0</td>\n",
       "      <td>13</td>\n",
       "      <td>1935</td>\n",
       "    </tr>\n",
       "    <tr>\n",
       "      <th>3</th>\n",
       "      <td>https://cdn.sofifa.net/players/243/630/22_60.png</td>\n",
       "      <td>J. David</td>\n",
       "      <td>21</td>\n",
       "      <td>80</td>\n",
       "      <td>86</td>\n",
       "      <td>LOSC Lille</td>\n",
       "      <td>34.0</td>\n",
       "      <td>36</td>\n",
       "      <td>1930</td>\n",
       "    </tr>\n",
       "    <tr>\n",
       "      <th>4</th>\n",
       "      <td>https://cdn.sofifa.net/players/254/796/22_60.png</td>\n",
       "      <td>N. Madueke</td>\n",
       "      <td>19</td>\n",
       "      <td>77</td>\n",
       "      <td>88</td>\n",
       "      <td>PSV</td>\n",
       "      <td>23.0</td>\n",
       "      <td>11</td>\n",
       "      <td>1897</td>\n",
       "    </tr>\n",
       "    <tr>\n",
       "      <th>...</th>\n",
       "      <td>...</td>\n",
       "      <td>...</td>\n",
       "      <td>...</td>\n",
       "      <td>...</td>\n",
       "      <td>...</td>\n",
       "      <td>...</td>\n",
       "      <td>...</td>\n",
       "      <td>...</td>\n",
       "      <td>...</td>\n",
       "    </tr>\n",
       "    <tr>\n",
       "      <th>1135</th>\n",
       "      <td>https://cdn.sofifa.net/players/241/852/22_60.png</td>\n",
       "      <td>M. Diaby</td>\n",
       "      <td>21</td>\n",
       "      <td>83</td>\n",
       "      <td>88</td>\n",
       "      <td>Bayer 04 Leverkusen</td>\n",
       "      <td>56.0</td>\n",
       "      <td>55</td>\n",
       "      <td>1948</td>\n",
       "    </tr>\n",
       "    <tr>\n",
       "      <th>1136</th>\n",
       "      <td>https://cdn.sofifa.net/players/244/778/22_60.png</td>\n",
       "      <td>Trincão</td>\n",
       "      <td>21</td>\n",
       "      <td>76</td>\n",
       "      <td>83</td>\n",
       "      <td>Wolverhampton Wanderers</td>\n",
       "      <td>15.0</td>\n",
       "      <td>84</td>\n",
       "      <td>1879</td>\n",
       "    </tr>\n",
       "    <tr>\n",
       "      <th>1137</th>\n",
       "      <td>https://cdn.sofifa.net/players/245/367/22_60.png</td>\n",
       "      <td>X. Simons</td>\n",
       "      <td>18</td>\n",
       "      <td>69</td>\n",
       "      <td>82</td>\n",
       "      <td>Paris Saint-Germain</td>\n",
       "      <td>3.3</td>\n",
       "      <td>13</td>\n",
       "      <td>1865</td>\n",
       "    </tr>\n",
       "    <tr>\n",
       "      <th>1138</th>\n",
       "      <td>https://cdn.sofifa.net/players/246/172/22_60.png</td>\n",
       "      <td>S. Chukwueze</td>\n",
       "      <td>22</td>\n",
       "      <td>77</td>\n",
       "      <td>84</td>\n",
       "      <td>Villarreal CF</td>\n",
       "      <td>21.5</td>\n",
       "      <td>27</td>\n",
       "      <td>1865</td>\n",
       "    </tr>\n",
       "    <tr>\n",
       "      <th>1139</th>\n",
       "      <td>https://cdn.sofifa.net/players/247/851/22_60.png</td>\n",
       "      <td>Bruno Guimarães</td>\n",
       "      <td>23</td>\n",
       "      <td>80</td>\n",
       "      <td>85</td>\n",
       "      <td>Newcastle United</td>\n",
       "      <td>29.0</td>\n",
       "      <td>39</td>\n",
       "      <td>2077</td>\n",
       "    </tr>\n",
       "  </tbody>\n",
       "</table>\n",
       "<p>1140 rows × 9 columns</p>\n",
       "</div>"
      ],
      "text/plain": [
       "                                                 Image             Name  Age  \\\n",
       "0     https://cdn.sofifa.net/players/158/023/22_60.png         L. Messi   34   \n",
       "1     https://cdn.sofifa.net/players/237/692/22_60.png         P. Foden   21   \n",
       "2     https://cdn.sofifa.net/players/251/805/22_60.png        J. Timber   20   \n",
       "3     https://cdn.sofifa.net/players/243/630/22_60.png         J. David   21   \n",
       "4     https://cdn.sofifa.net/players/254/796/22_60.png       N. Madueke   19   \n",
       "...                                                ...              ...  ...   \n",
       "1135  https://cdn.sofifa.net/players/241/852/22_60.png         M. Diaby   21   \n",
       "1136  https://cdn.sofifa.net/players/244/778/22_60.png          Trincão   21   \n",
       "1137  https://cdn.sofifa.net/players/245/367/22_60.png        X. Simons   18   \n",
       "1138  https://cdn.sofifa.net/players/246/172/22_60.png     S. Chukwueze   22   \n",
       "1139  https://cdn.sofifa.net/players/247/851/22_60.png  Bruno Guimarães   23   \n",
       "\n",
       "      OVA  POT                     Team  Value (M$)  Wage (K$)  Total  \n",
       "0      92   92      Paris Saint-Germain        69.5        290   2206  \n",
       "1      84   92          Manchester City        94.5        140   2073  \n",
       "2      79   88                     Ajax        36.0         13   1935  \n",
       "3      80   86               LOSC Lille        34.0         36   1930  \n",
       "4      77   88                      PSV        23.0         11   1897  \n",
       "...   ...  ...                      ...         ...        ...    ...  \n",
       "1135   83   88      Bayer 04 Leverkusen        56.0         55   1948  \n",
       "1136   76   83  Wolverhampton Wanderers        15.0         84   1879  \n",
       "1137   69   82      Paris Saint-Germain         3.3         13   1865  \n",
       "1138   77   84            Villarreal CF        21.5         27   1865  \n",
       "1139   80   85         Newcastle United        29.0         39   2077  \n",
       "\n",
       "[1140 rows x 9 columns]"
      ]
     },
     "execution_count": 332,
     "metadata": {},
     "output_type": "execute_result"
    }
   ],
   "source": [
    "fifa"
   ]
  }
 ],
 "metadata": {
  "interpreter": {
   "hash": "cb4a6ece8dc9cf1f5b1565d05f1a189d257ecb16f7f86b5ca0cc8563c18481dc"
  },
  "kernelspec": {
   "display_name": "Python 3.9.7 ('base')",
   "language": "python",
   "name": "python3"
  },
  "language_info": {
   "codemirror_mode": {
    "name": "ipython",
    "version": 3
   },
   "file_extension": ".py",
   "mimetype": "text/x-python",
   "name": "python",
   "nbconvert_exporter": "python",
   "pygments_lexer": "ipython3",
   "version": "3.9.7"
  },
  "orig_nbformat": 4
 },
 "nbformat": 4,
 "nbformat_minor": 2
}

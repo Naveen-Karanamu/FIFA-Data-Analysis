{
 "cells": [
  {
   "cell_type": "markdown",
   "metadata": {},
   "source": [
    "# FIFA DataSet Analysis"
   ]
  },
  {
   "cell_type": "markdown",
   "metadata": {},
   "source": [
    "\n",
    "* Importing Libraries"
   ]
  },
  {
   "cell_type": "code",
   "execution_count": 1,
   "metadata": {},
   "outputs": [],
   "source": [
    "\n",
    "#Numpy\n",
    "import numpy as np\n",
    "\n",
    "# Pandas\n",
    "import pandas as pd\n",
    "\n",
    "# BeautifulSoup\n",
    "from bs4 import BeautifulSoup\n",
    "\n",
    "# Requests\n",
    "import requests\n",
    "\n",
    "# Reges\n",
    "import regex as re \n",
    "\n",
    "# sqlite\n",
    "import sqlite3 as sql\n",
    "\n",
    "# MatplotLib\n",
    "import matplotlib.pyplot as plt"
   ]
  },
  {
   "cell_type": "markdown",
   "metadata": {},
   "source": [
    "* Web Scrapping\n"
   ]
  },
  {
   "cell_type": "code",
   "execution_count": 2,
   "metadata": {},
   "outputs": [
    {
     "data": {
      "text/plain": [
       "<Response [200]>"
      ]
     },
     "execution_count": 2,
     "metadata": {},
     "output_type": "execute_result"
    }
   ],
   "source": [
    "req=requests.get(\"https://sofifa.com/players?offset=1\")\n",
    "req"
   ]
  },
  {
   "cell_type": "markdown",
   "metadata": {},
   "source": [
    "* BeautifulSoup"
   ]
  },
  {
   "cell_type": "code",
   "execution_count": 3,
   "metadata": {},
   "outputs": [],
   "source": [
    "soup=BeautifulSoup(req.content)"
   ]
  },
  {
   "cell_type": "code",
   "execution_count": 4,
   "metadata": {},
   "outputs": [],
   "source": [
    "# Adding the attributes to the array\n",
    "arr=[]\n",
    "for i in soup.findAll('td'):\n",
    "    arr.append(str(i))"
   ]
  },
  {
   "cell_type": "markdown",
   "metadata": {},
   "source": [
    "* Cleaning Image URL"
   ]
  },
  {
   "cell_type": "code",
   "execution_count": 5,
   "metadata": {},
   "outputs": [
    {
     "data": {
      "text/plain": [
       "'https://cdn.sofifa.net/players/248/474/22_60.png'"
      ]
     },
     "execution_count": 5,
     "metadata": {},
     "output_type": "execute_result"
    }
   ],
   "source": [
    "clean_img=re.sub('<td.*\\n.*data-src=.|\".*',\"\",arr[0])\n",
    "clean_img"
   ]
  },
  {
   "cell_type": "code",
   "execution_count": 6,
   "metadata": {},
   "outputs": [
    {
     "data": {
      "text/plain": [
       "'<td class=\"col-avatar\" data-balloon=\"Click here!\" data-balloon-pos=\"up\" data-balloon-visible=\"\"><figure class=\"avatar\">\\n<img alt=\"\" class=\"player-check\" data-root=\"https://cdn.sofifa.net/players/\" data-src=\"https://cdn.sofifa.net/players/248/474/22_60.png\" data-srcset=\"https://cdn.sofifa.net/players/248/474/22_120.png 2x, https://cdn.sofifa.net/players/248/474/22_180.png 3x\" data-type=\"player\" id=\"248474\" src=\"https://cdn.sofifa.net/players/notfound_0_60.png\"/></figure></td>'"
      ]
     },
     "execution_count": 6,
     "metadata": {},
     "output_type": "execute_result"
    }
   ],
   "source": [
    "# The row is from 0-8\n",
    "arr[0]"
   ]
  },
  {
   "cell_type": "markdown",
   "metadata": {},
   "source": [
    "* Cleaning Name"
   ]
  },
  {
   "cell_type": "code",
   "execution_count": 7,
   "metadata": {},
   "outputs": [
    {
     "data": {
      "text/plain": [
       "'T. Anjorin'"
      ]
     },
     "execution_count": 7,
     "metadata": {},
     "output_type": "execute_result"
    }
   ],
   "source": [
    "clean_name=re.sub('<td.*\\n.*s\">|<\\/div.*>',\"\",arr[1])\n",
    "clean_name"
   ]
  },
  {
   "cell_type": "markdown",
   "metadata": {},
   "source": [
    "* Cleaning Age"
   ]
  },
  {
   "cell_type": "code",
   "execution_count": 8,
   "metadata": {},
   "outputs": [
    {
     "data": {
      "text/plain": [
       "'23'"
      ]
     },
     "execution_count": 8,
     "metadata": {},
     "output_type": "execute_result"
    }
   ],
   "source": [
    "clean_age=re.sub('<td.*e\">|<.*>',\"\",arr[11])\n",
    "clean_age"
   ]
  },
  {
   "cell_type": "markdown",
   "metadata": {},
   "source": [
    "* Cleaning OVA"
   ]
  },
  {
   "cell_type": "code",
   "execution_count": 9,
   "metadata": {},
   "outputs": [
    {
     "data": {
      "text/plain": [
       "'64'"
      ]
     },
     "execution_count": 9,
     "metadata": {},
     "output_type": "execute_result"
    }
   ],
   "source": [
    "clean_ova=re.sub('<td.*p.*\">|<.*>',\"\",arr[3])\n",
    "clean_ova"
   ]
  },
  {
   "cell_type": "markdown",
   "metadata": {},
   "source": [
    "* Cleaning POT"
   ]
  },
  {
   "cell_type": "code",
   "execution_count": 10,
   "metadata": {},
   "outputs": [
    {
     "data": {
      "text/plain": [
       "'80'"
      ]
     },
     "execution_count": 10,
     "metadata": {},
     "output_type": "execute_result"
    }
   ],
   "source": [
    "clean_pot=re.sub('<td.*p.*\">|<.*>',\"\",arr[4])\n",
    "clean_pot"
   ]
  },
  {
   "cell_type": "markdown",
   "metadata": {},
   "source": [
    "* Cleaning Team & Contract"
   ]
  },
  {
   "cell_type": "code",
   "execution_count": 11,
   "metadata": {},
   "outputs": [
    {
     "data": {
      "text/plain": [
       "'Huddersfield Town'"
      ]
     },
     "execution_count": 11,
     "metadata": {},
     "output_type": "execute_result"
    }
   ],
   "source": [
    "clean_team=re.sub('<td.*\\n<d.*\\n<i.*\\n</f.*\\n.*/\">|<.*\\n.*>\\n.*>\\n.*>',\"\",arr[5])\n",
    "clean_team"
   ]
  },
  {
   "cell_type": "markdown",
   "metadata": {},
   "source": [
    "* Cleaning Value"
   ]
  },
  {
   "cell_type": "code",
   "execution_count": 12,
   "metadata": {},
   "outputs": [
    {
     "data": {
      "text/plain": [
       "'€1.5M'"
      ]
     },
     "execution_count": 12,
     "metadata": {},
     "output_type": "execute_result"
    }
   ],
   "source": [
    "clean_value=re.sub('<td.*\">|<.*>',\"\",arr[6])\n",
    "clean_value"
   ]
  },
  {
   "cell_type": "markdown",
   "metadata": {},
   "source": [
    "* Cleaning Wage"
   ]
  },
  {
   "cell_type": "code",
   "execution_count": 13,
   "metadata": {},
   "outputs": [
    {
     "data": {
      "text/plain": [
       "'€1K'"
      ]
     },
     "execution_count": 13,
     "metadata": {},
     "output_type": "execute_result"
    }
   ],
   "source": [
    "clean_wage=re.sub('<td.*\">|<.*>',\"\",arr[7])\n",
    "clean_wage"
   ]
  },
  {
   "cell_type": "markdown",
   "metadata": {},
   "source": [
    "* Cleaning Total"
   ]
  },
  {
   "cell_type": "code",
   "execution_count": 14,
   "metadata": {},
   "outputs": [
    {
     "data": {
      "text/plain": [
       "'1681'"
      ]
     },
     "execution_count": 14,
     "metadata": {},
     "output_type": "execute_result"
    }
   ],
   "source": [
    "clean_total=re.sub('<td.*\">|<.*>',\"\",arr[8])\n",
    "clean_total"
   ]
  },
  {
   "cell_type": "markdown",
   "metadata": {},
   "source": [
    "* Looping through the data"
   ]
  },
  {
   "cell_type": "code",
   "execution_count": 15,
   "metadata": {},
   "outputs": [],
   "source": [
    "#0-8\n",
    "img=[]\n",
    "name=[]\n",
    "age=[]\n",
    "ova=[]\n",
    "pot=[]\n",
    "team=[]\n",
    "value=[]\n",
    "wage=[]\n",
    "total=[]\n",
    "\n",
    "count=0\n",
    "for j in range(1,20):\n",
    "    url=f\"https://sofifa.com/players?offset={j}\"\n",
    "    req=requests.get(url)\n",
    "    soup=BeautifulSoup(req.content)\n",
    "    \n",
    "    for i in soup.findAll('td'):\n",
    "        clean_img=re.sub('<td.*\\n.*data-src=.|\".*',\"\",str(i))\n",
    "        clean_name=re.sub('<td.*\\n.*s\">|<\\/div.*>',\"\",str(i))\n",
    "        clean_age=re.sub('<td.*e\">|<.*>',\"\",str(i))\n",
    "        clean_ova=re.sub('<td.*p.*\">|<.*>',\"\",str(i))\n",
    "        clean_pot=re.sub('<td.*p.*\">|<.*>',\"\",str(i))\n",
    "        clean_team=re.sub('<td.*\\n<d.*\\n<i.*\\n</f.*\\n.*/\">|<.*\\n.*>\\n.*>\\n.*>',\"\",str(i))\n",
    "        clean_value=re.sub('<td.*\">.|.<.*>',\"\",str(i))\n",
    "        clean_wage=re.sub('<td.*\">.|.<.*>',\"\",str(i))\n",
    "        clean_total=re.sub('<td.*\">|<.*>',\"\",str(i))\n",
    "        \n",
    "        if count==0:\n",
    "            img.append(clean_img)\n",
    "            count+=1\n",
    "        elif count==1:\n",
    "            name.append(clean_name)\n",
    "            count+=1\n",
    "        elif count==2:\n",
    "            age.append(clean_age)\n",
    "            count+=1\n",
    "        elif count==3:\n",
    "            ova.append(clean_ova)\n",
    "            count+=1\n",
    "        elif count==4:\n",
    "            pot.append(clean_pot)\n",
    "            count+=1\n",
    "        elif count==5:\n",
    "            team.append(clean_team)\n",
    "            count+=1\n",
    "        elif count==6:\n",
    "            value.append(clean_value)\n",
    "            count+=1\n",
    "        elif count==7:\n",
    "            wage.append(clean_wage)\n",
    "            count+=1\n",
    "        else:\n",
    "            count=0\n",
    "            total.append(clean_total)\n",
    "        \n"
   ]
  },
  {
   "cell_type": "markdown",
   "metadata": {},
   "source": [
    "* Type casting"
   ]
  },
  {
   "cell_type": "code",
   "execution_count": 16,
   "metadata": {},
   "outputs": [],
   "source": [
    "fifa=pd.DataFrame({'Image':img,'Name':name,'Age':age,'OVA':ova,'POT':pot,'Team':team,'Value (M$)':value,'Wage (K$)':wage,'Total':total})\n",
    "fifa['Age']=pd.to_numeric(fifa['Age'])\n",
    "fifa['OVA']=pd.to_numeric(fifa['OVA'])\n",
    "fifa['POT']=pd.to_numeric(fifa['POT'])\n",
    "fifa['Value (M$)']=pd.to_numeric(fifa['Value (M$)'])\n",
    "fifa['Wage (K$)']=pd.to_numeric(fifa['Wage (K$)'])\n",
    "fifa['Total']=pd.to_numeric(fifa['Total'])"
   ]
  },
  {
   "cell_type": "code",
   "execution_count": 17,
   "metadata": {},
   "outputs": [
    {
     "name": "stdout",
     "output_type": "stream",
     "text": [
      "<class 'pandas.core.frame.DataFrame'>\n",
      "RangeIndex: 1140 entries, 0 to 1139\n",
      "Data columns (total 9 columns):\n",
      " #   Column      Non-Null Count  Dtype  \n",
      "---  ------      --------------  -----  \n",
      " 0   Image       1140 non-null   object \n",
      " 1   Name        1140 non-null   object \n",
      " 2   Age         1140 non-null   int64  \n",
      " 3   OVA         1140 non-null   int64  \n",
      " 4   POT         1140 non-null   int64  \n",
      " 5   Team        1140 non-null   object \n",
      " 6   Value (M$)  1140 non-null   float64\n",
      " 7   Wage (K$)   1140 non-null   int64  \n",
      " 8   Total       1140 non-null   int64  \n",
      "dtypes: float64(1), int64(5), object(3)\n",
      "memory usage: 80.3+ KB\n"
     ]
    }
   ],
   "source": [
    "# Getting the basic info for the DF\n",
    "fifa.info()"
   ]
  },
  {
   "cell_type": "code",
   "execution_count": 18,
   "metadata": {},
   "outputs": [
    {
     "data": {
      "text/plain": [
       "(1140, 9)"
      ]
     },
     "execution_count": 18,
     "metadata": {},
     "output_type": "execute_result"
    }
   ],
   "source": [
    "# Shape of the DF\n",
    "fifa.shape"
   ]
  },
  {
   "cell_type": "markdown",
   "metadata": {},
   "source": [
    "*Droping the Image url column from the DF"
   ]
  },
  {
   "cell_type": "code",
   "execution_count": 19,
   "metadata": {},
   "outputs": [],
   "source": [
    "# Remmoving the Image column\n",
    "fifa.drop(columns=[\"Image\"],inplace=True,axis=1)"
   ]
  },
  {
   "cell_type": "markdown",
   "metadata": {},
   "source": [
    "* 1st 20 datapoints"
   ]
  },
  {
   "cell_type": "code",
   "execution_count": 20,
   "metadata": {},
   "outputs": [
    {
     "data": {
      "text/html": [
       "<div>\n",
       "<style scoped>\n",
       "    .dataframe tbody tr th:only-of-type {\n",
       "        vertical-align: middle;\n",
       "    }\n",
       "\n",
       "    .dataframe tbody tr th {\n",
       "        vertical-align: top;\n",
       "    }\n",
       "\n",
       "    .dataframe thead th {\n",
       "        text-align: right;\n",
       "    }\n",
       "</style>\n",
       "<table border=\"1\" class=\"dataframe\">\n",
       "  <thead>\n",
       "    <tr style=\"text-align: right;\">\n",
       "      <th></th>\n",
       "      <th>Name</th>\n",
       "      <th>Age</th>\n",
       "      <th>OVA</th>\n",
       "      <th>POT</th>\n",
       "      <th>Team</th>\n",
       "      <th>Value (M$)</th>\n",
       "      <th>Wage (K$)</th>\n",
       "      <th>Total</th>\n",
       "    </tr>\n",
       "  </thead>\n",
       "  <tbody>\n",
       "    <tr>\n",
       "      <th>0</th>\n",
       "      <td>T. Anjorin</td>\n",
       "      <td>19</td>\n",
       "      <td>64</td>\n",
       "      <td>80</td>\n",
       "      <td>Huddersfield Town</td>\n",
       "      <td>1.5</td>\n",
       "      <td>1</td>\n",
       "      <td>1681</td>\n",
       "    </tr>\n",
       "    <tr>\n",
       "      <th>1</th>\n",
       "      <td>C. Nkunku</td>\n",
       "      <td>23</td>\n",
       "      <td>86</td>\n",
       "      <td>89</td>\n",
       "      <td>RB Leipzig</td>\n",
       "      <td>93.0</td>\n",
       "      <td>110</td>\n",
       "      <td>2199</td>\n",
       "    </tr>\n",
       "    <tr>\n",
       "      <th>2</th>\n",
       "      <td>A. Knauff</td>\n",
       "      <td>19</td>\n",
       "      <td>71</td>\n",
       "      <td>82</td>\n",
       "      <td>Eintracht Frankfurt</td>\n",
       "      <td>4.0</td>\n",
       "      <td>17</td>\n",
       "      <td>1740</td>\n",
       "    </tr>\n",
       "    <tr>\n",
       "      <th>3</th>\n",
       "      <td>R. Nelson</td>\n",
       "      <td>21</td>\n",
       "      <td>72</td>\n",
       "      <td>79</td>\n",
       "      <td>Feyenoord</td>\n",
       "      <td>4.8</td>\n",
       "      <td>39</td>\n",
       "      <td>1746</td>\n",
       "    </tr>\n",
       "    <tr>\n",
       "      <th>4</th>\n",
       "      <td>O. Kökçü</td>\n",
       "      <td>20</td>\n",
       "      <td>78</td>\n",
       "      <td>85</td>\n",
       "      <td>Feyenoord</td>\n",
       "      <td>27.5</td>\n",
       "      <td>10</td>\n",
       "      <td>2058</td>\n",
       "    </tr>\n",
       "    <tr>\n",
       "      <th>5</th>\n",
       "      <td>N. Zalewski</td>\n",
       "      <td>19</td>\n",
       "      <td>68</td>\n",
       "      <td>82</td>\n",
       "      <td>Roma</td>\n",
       "      <td>2.9</td>\n",
       "      <td>10</td>\n",
       "      <td>1697</td>\n",
       "    </tr>\n",
       "    <tr>\n",
       "      <th>6</th>\n",
       "      <td>Cristiano Ronaldo</td>\n",
       "      <td>36</td>\n",
       "      <td>91</td>\n",
       "      <td>91</td>\n",
       "      <td>Manchester United</td>\n",
       "      <td>45.0</td>\n",
       "      <td>270</td>\n",
       "      <td>2188</td>\n",
       "    </tr>\n",
       "    <tr>\n",
       "      <th>7</th>\n",
       "      <td>L. Sinisterra</td>\n",
       "      <td>22</td>\n",
       "      <td>78</td>\n",
       "      <td>84</td>\n",
       "      <td>Feyenoord</td>\n",
       "      <td>22.5</td>\n",
       "      <td>13</td>\n",
       "      <td>2009</td>\n",
       "    </tr>\n",
       "    <tr>\n",
       "      <th>8</th>\n",
       "      <td>A. Tchouaméni</td>\n",
       "      <td>21</td>\n",
       "      <td>81</td>\n",
       "      <td>88</td>\n",
       "      <td>AS Monaco</td>\n",
       "      <td>52.0</td>\n",
       "      <td>46</td>\n",
       "      <td>2141</td>\n",
       "    </tr>\n",
       "    <tr>\n",
       "      <th>9</th>\n",
       "      <td>C. Dessers</td>\n",
       "      <td>26</td>\n",
       "      <td>74</td>\n",
       "      <td>75</td>\n",
       "      <td>Feyenoord</td>\n",
       "      <td>5.0</td>\n",
       "      <td>16</td>\n",
       "      <td>1753</td>\n",
       "    </tr>\n",
       "    <tr>\n",
       "      <th>10</th>\n",
       "      <td>Gavi</td>\n",
       "      <td>16</td>\n",
       "      <td>77</td>\n",
       "      <td>89</td>\n",
       "      <td>FC Barcelona</td>\n",
       "      <td>24.0</td>\n",
       "      <td>14</td>\n",
       "      <td>1970</td>\n",
       "    </tr>\n",
       "    <tr>\n",
       "      <th>11</th>\n",
       "      <td>R. James</td>\n",
       "      <td>21</td>\n",
       "      <td>83</td>\n",
       "      <td>87</td>\n",
       "      <td>Chelsea</td>\n",
       "      <td>49.5</td>\n",
       "      <td>90</td>\n",
       "      <td>2201</td>\n",
       "    </tr>\n",
       "    <tr>\n",
       "      <th>12</th>\n",
       "      <td>D. Núñez</td>\n",
       "      <td>22</td>\n",
       "      <td>78</td>\n",
       "      <td>86</td>\n",
       "      <td>SL Benfica</td>\n",
       "      <td>32.0</td>\n",
       "      <td>15</td>\n",
       "      <td>1987</td>\n",
       "    </tr>\n",
       "    <tr>\n",
       "      <th>13</th>\n",
       "      <td>D. Vlahović</td>\n",
       "      <td>21</td>\n",
       "      <td>83</td>\n",
       "      <td>90</td>\n",
       "      <td>Juventus</td>\n",
       "      <td>74.5</td>\n",
       "      <td>85</td>\n",
       "      <td>1874</td>\n",
       "    </tr>\n",
       "    <tr>\n",
       "      <th>14</th>\n",
       "      <td>L. Messi</td>\n",
       "      <td>34</td>\n",
       "      <td>92</td>\n",
       "      <td>92</td>\n",
       "      <td>Paris Saint-Germain</td>\n",
       "      <td>69.5</td>\n",
       "      <td>290</td>\n",
       "      <td>2206</td>\n",
       "    </tr>\n",
       "    <tr>\n",
       "      <th>15</th>\n",
       "      <td>D. Kamada</td>\n",
       "      <td>24</td>\n",
       "      <td>79</td>\n",
       "      <td>82</td>\n",
       "      <td>Eintracht Frankfurt</td>\n",
       "      <td>24.0</td>\n",
       "      <td>29</td>\n",
       "      <td>1951</td>\n",
       "    </tr>\n",
       "    <tr>\n",
       "      <th>16</th>\n",
       "      <td>N. Schlotterbeck</td>\n",
       "      <td>21</td>\n",
       "      <td>80</td>\n",
       "      <td>86</td>\n",
       "      <td>Sport-Club Freiburg</td>\n",
       "      <td>31.0</td>\n",
       "      <td>23</td>\n",
       "      <td>1839</td>\n",
       "    </tr>\n",
       "    <tr>\n",
       "      <th>17</th>\n",
       "      <td>T. Malacia</td>\n",
       "      <td>21</td>\n",
       "      <td>78</td>\n",
       "      <td>83</td>\n",
       "      <td>Feyenoord</td>\n",
       "      <td>20.0</td>\n",
       "      <td>9</td>\n",
       "      <td>1955</td>\n",
       "    </tr>\n",
       "    <tr>\n",
       "      <th>18</th>\n",
       "      <td>N. Quagliata</td>\n",
       "      <td>22</td>\n",
       "      <td>69</td>\n",
       "      <td>77</td>\n",
       "      <td>Montevideo Wanderers</td>\n",
       "      <td>3.1</td>\n",
       "      <td>50</td>\n",
       "      <td>1697</td>\n",
       "    </tr>\n",
       "    <tr>\n",
       "      <th>19</th>\n",
       "      <td>J. Sancho</td>\n",
       "      <td>21</td>\n",
       "      <td>85</td>\n",
       "      <td>89</td>\n",
       "      <td>Manchester United</td>\n",
       "      <td>78.5</td>\n",
       "      <td>130</td>\n",
       "      <td>1996</td>\n",
       "    </tr>\n",
       "  </tbody>\n",
       "</table>\n",
       "</div>"
      ],
      "text/plain": [
       "                 Name  Age  OVA  POT                  Team  Value (M$)  \\\n",
       "0          T. Anjorin   19   64   80     Huddersfield Town         1.5   \n",
       "1           C. Nkunku   23   86   89            RB Leipzig        93.0   \n",
       "2           A. Knauff   19   71   82   Eintracht Frankfurt         4.0   \n",
       "3           R. Nelson   21   72   79             Feyenoord         4.8   \n",
       "4            O. Kökçü   20   78   85             Feyenoord        27.5   \n",
       "5         N. Zalewski   19   68   82                  Roma         2.9   \n",
       "6   Cristiano Ronaldo   36   91   91     Manchester United        45.0   \n",
       "7       L. Sinisterra   22   78   84             Feyenoord        22.5   \n",
       "8       A. Tchouaméni   21   81   88             AS Monaco        52.0   \n",
       "9          C. Dessers   26   74   75             Feyenoord         5.0   \n",
       "10               Gavi   16   77   89          FC Barcelona        24.0   \n",
       "11           R. James   21   83   87               Chelsea        49.5   \n",
       "12           D. Núñez   22   78   86            SL Benfica        32.0   \n",
       "13        D. Vlahović   21   83   90              Juventus        74.5   \n",
       "14           L. Messi   34   92   92   Paris Saint-Germain        69.5   \n",
       "15          D. Kamada   24   79   82   Eintracht Frankfurt        24.0   \n",
       "16   N. Schlotterbeck   21   80   86   Sport-Club Freiburg        31.0   \n",
       "17         T. Malacia   21   78   83             Feyenoord        20.0   \n",
       "18       N. Quagliata   22   69   77  Montevideo Wanderers         3.1   \n",
       "19          J. Sancho   21   85   89     Manchester United        78.5   \n",
       "\n",
       "    Wage (K$)  Total  \n",
       "0           1   1681  \n",
       "1         110   2199  \n",
       "2          17   1740  \n",
       "3          39   1746  \n",
       "4          10   2058  \n",
       "5          10   1697  \n",
       "6         270   2188  \n",
       "7          13   2009  \n",
       "8          46   2141  \n",
       "9          16   1753  \n",
       "10         14   1970  \n",
       "11         90   2201  \n",
       "12         15   1987  \n",
       "13         85   1874  \n",
       "14        290   2206  \n",
       "15         29   1951  \n",
       "16         23   1839  \n",
       "17          9   1955  \n",
       "18         50   1697  \n",
       "19        130   1996  "
      ]
     },
     "execution_count": 20,
     "metadata": {},
     "output_type": "execute_result"
    }
   ],
   "source": [
    "fifa.head(20)"
   ]
  },
  {
   "cell_type": "markdown",
   "metadata": {},
   "source": [
    "* Last 20 Datapoints"
   ]
  },
  {
   "cell_type": "code",
   "execution_count": 21,
   "metadata": {},
   "outputs": [
    {
     "data": {
      "text/html": [
       "<div>\n",
       "<style scoped>\n",
       "    .dataframe tbody tr th:only-of-type {\n",
       "        vertical-align: middle;\n",
       "    }\n",
       "\n",
       "    .dataframe tbody tr th {\n",
       "        vertical-align: top;\n",
       "    }\n",
       "\n",
       "    .dataframe thead th {\n",
       "        text-align: right;\n",
       "    }\n",
       "</style>\n",
       "<table border=\"1\" class=\"dataframe\">\n",
       "  <thead>\n",
       "    <tr style=\"text-align: right;\">\n",
       "      <th></th>\n",
       "      <th>Name</th>\n",
       "      <th>Age</th>\n",
       "      <th>OVA</th>\n",
       "      <th>POT</th>\n",
       "      <th>Team</th>\n",
       "      <th>Value (M$)</th>\n",
       "      <th>Wage (K$)</th>\n",
       "      <th>Total</th>\n",
       "    </tr>\n",
       "  </thead>\n",
       "  <tbody>\n",
       "    <tr>\n",
       "      <th>1120</th>\n",
       "      <td>J. Musiala</td>\n",
       "      <td>18</td>\n",
       "      <td>79</td>\n",
       "      <td>89</td>\n",
       "      <td>FC Bayern München</td>\n",
       "      <td>37.0</td>\n",
       "      <td>26</td>\n",
       "      <td>1911</td>\n",
       "    </tr>\n",
       "    <tr>\n",
       "      <th>1121</th>\n",
       "      <td>Gonçalo Ramos</td>\n",
       "      <td>20</td>\n",
       "      <td>74</td>\n",
       "      <td>87</td>\n",
       "      <td>SL Benfica</td>\n",
       "      <td>10.0</td>\n",
       "      <td>10</td>\n",
       "      <td>1885</td>\n",
       "    </tr>\n",
       "    <tr>\n",
       "      <th>1122</th>\n",
       "      <td>G. Scamacca</td>\n",
       "      <td>22</td>\n",
       "      <td>78</td>\n",
       "      <td>84</td>\n",
       "      <td>U.S. Sassuolo Calcio</td>\n",
       "      <td>23.0</td>\n",
       "      <td>34</td>\n",
       "      <td>1856</td>\n",
       "    </tr>\n",
       "    <tr>\n",
       "      <th>1123</th>\n",
       "      <td>A. Hložek</td>\n",
       "      <td>18</td>\n",
       "      <td>77</td>\n",
       "      <td>87</td>\n",
       "      <td>AC Sparta Praha</td>\n",
       "      <td>22.0</td>\n",
       "      <td>50</td>\n",
       "      <td>1929</td>\n",
       "    </tr>\n",
       "    <tr>\n",
       "      <th>1124</th>\n",
       "      <td>Ansu Fati</td>\n",
       "      <td>18</td>\n",
       "      <td>79</td>\n",
       "      <td>90</td>\n",
       "      <td>FC Barcelona</td>\n",
       "      <td>37.0</td>\n",
       "      <td>56</td>\n",
       "      <td>1904</td>\n",
       "    </tr>\n",
       "    <tr>\n",
       "      <th>1125</th>\n",
       "      <td>T. Abraham</td>\n",
       "      <td>23</td>\n",
       "      <td>80</td>\n",
       "      <td>85</td>\n",
       "      <td>Roma</td>\n",
       "      <td>32.0</td>\n",
       "      <td>57</td>\n",
       "      <td>1828</td>\n",
       "    </tr>\n",
       "    <tr>\n",
       "      <th>1126</th>\n",
       "      <td>N. Zaniolo</td>\n",
       "      <td>21</td>\n",
       "      <td>79</td>\n",
       "      <td>87</td>\n",
       "      <td>Roma</td>\n",
       "      <td>39.5</td>\n",
       "      <td>46</td>\n",
       "      <td>2066</td>\n",
       "    </tr>\n",
       "    <tr>\n",
       "      <th>1127</th>\n",
       "      <td>P. Pogba</td>\n",
       "      <td>28</td>\n",
       "      <td>86</td>\n",
       "      <td>86</td>\n",
       "      <td>Manchester United</td>\n",
       "      <td>68.0</td>\n",
       "      <td>200</td>\n",
       "      <td>2196</td>\n",
       "    </tr>\n",
       "    <tr>\n",
       "      <th>1128</th>\n",
       "      <td>Diogo Costa</td>\n",
       "      <td>21</td>\n",
       "      <td>77</td>\n",
       "      <td>86</td>\n",
       "      <td>FC Porto</td>\n",
       "      <td>20.5</td>\n",
       "      <td>7</td>\n",
       "      <td>1107</td>\n",
       "    </tr>\n",
       "    <tr>\n",
       "      <th>1129</th>\n",
       "      <td>I. Konaté</td>\n",
       "      <td>22</td>\n",
       "      <td>80</td>\n",
       "      <td>88</td>\n",
       "      <td>Liverpool</td>\n",
       "      <td>44.5</td>\n",
       "      <td>85</td>\n",
       "      <td>1737</td>\n",
       "    </tr>\n",
       "    <tr>\n",
       "      <th>1130</th>\n",
       "      <td>R. Lewandowski</td>\n",
       "      <td>32</td>\n",
       "      <td>92</td>\n",
       "      <td>92</td>\n",
       "      <td>FC Bayern München</td>\n",
       "      <td>119.5</td>\n",
       "      <td>270</td>\n",
       "      <td>2211</td>\n",
       "    </tr>\n",
       "    <tr>\n",
       "      <th>1131</th>\n",
       "      <td>F. de Jong</td>\n",
       "      <td>24</td>\n",
       "      <td>87</td>\n",
       "      <td>92</td>\n",
       "      <td>FC Barcelona</td>\n",
       "      <td>119.5</td>\n",
       "      <td>210</td>\n",
       "      <td>2235</td>\n",
       "    </tr>\n",
       "    <tr>\n",
       "      <th>1132</th>\n",
       "      <td>A. Bastoni</td>\n",
       "      <td>22</td>\n",
       "      <td>83</td>\n",
       "      <td>89</td>\n",
       "      <td>Inter</td>\n",
       "      <td>53.0</td>\n",
       "      <td>100</td>\n",
       "      <td>1859</td>\n",
       "    </tr>\n",
       "    <tr>\n",
       "      <th>1133</th>\n",
       "      <td>C. Gallagher</td>\n",
       "      <td>21</td>\n",
       "      <td>78</td>\n",
       "      <td>85</td>\n",
       "      <td>Crystal Palace</td>\n",
       "      <td>28.5</td>\n",
       "      <td>69</td>\n",
       "      <td>1996</td>\n",
       "    </tr>\n",
       "    <tr>\n",
       "      <th>1134</th>\n",
       "      <td>E. Smith Rowe</td>\n",
       "      <td>20</td>\n",
       "      <td>80</td>\n",
       "      <td>87</td>\n",
       "      <td>Arsenal</td>\n",
       "      <td>42.0</td>\n",
       "      <td>65</td>\n",
       "      <td>1835</td>\n",
       "    </tr>\n",
       "    <tr>\n",
       "      <th>1135</th>\n",
       "      <td>C. Chukwuemeka</td>\n",
       "      <td>17</td>\n",
       "      <td>64</td>\n",
       "      <td>87</td>\n",
       "      <td>Aston Villa</td>\n",
       "      <td>1.8</td>\n",
       "      <td>2</td>\n",
       "      <td>1630</td>\n",
       "    </tr>\n",
       "    <tr>\n",
       "      <th>1136</th>\n",
       "      <td>V. van Dijk</td>\n",
       "      <td>29</td>\n",
       "      <td>90</td>\n",
       "      <td>90</td>\n",
       "      <td>Liverpool</td>\n",
       "      <td>100.0</td>\n",
       "      <td>240</td>\n",
       "      <td>2118</td>\n",
       "    </tr>\n",
       "    <tr>\n",
       "      <th>1137</th>\n",
       "      <td>B. Kamara</td>\n",
       "      <td>21</td>\n",
       "      <td>80</td>\n",
       "      <td>86</td>\n",
       "      <td>Olympique de Marseille</td>\n",
       "      <td>31.0</td>\n",
       "      <td>30</td>\n",
       "      <td>1987</td>\n",
       "    </tr>\n",
       "    <tr>\n",
       "      <th>1138</th>\n",
       "      <td>T. Nianzou</td>\n",
       "      <td>19</td>\n",
       "      <td>72</td>\n",
       "      <td>85</td>\n",
       "      <td>FC Bayern München</td>\n",
       "      <td>5.0</td>\n",
       "      <td>20</td>\n",
       "      <td>1677</td>\n",
       "    </tr>\n",
       "    <tr>\n",
       "      <th>1139</th>\n",
       "      <td>Fábio Carvalho</td>\n",
       "      <td>18</td>\n",
       "      <td>73</td>\n",
       "      <td>86</td>\n",
       "      <td>Fulham</td>\n",
       "      <td>7.0</td>\n",
       "      <td>15</td>\n",
       "      <td>1784</td>\n",
       "    </tr>\n",
       "  </tbody>\n",
       "</table>\n",
       "</div>"
      ],
      "text/plain": [
       "                Name  Age  OVA  POT                    Team  Value (M$)  \\\n",
       "1120      J. Musiala   18   79   89       FC Bayern München        37.0   \n",
       "1121   Gonçalo Ramos   20   74   87              SL Benfica        10.0   \n",
       "1122     G. Scamacca   22   78   84    U.S. Sassuolo Calcio        23.0   \n",
       "1123       A. Hložek   18   77   87         AC Sparta Praha        22.0   \n",
       "1124       Ansu Fati   18   79   90            FC Barcelona        37.0   \n",
       "1125      T. Abraham   23   80   85                    Roma        32.0   \n",
       "1126      N. Zaniolo   21   79   87                    Roma        39.5   \n",
       "1127        P. Pogba   28   86   86       Manchester United        68.0   \n",
       "1128     Diogo Costa   21   77   86                FC Porto        20.5   \n",
       "1129       I. Konaté   22   80   88               Liverpool        44.5   \n",
       "1130  R. Lewandowski   32   92   92       FC Bayern München       119.5   \n",
       "1131      F. de Jong   24   87   92            FC Barcelona       119.5   \n",
       "1132      A. Bastoni   22   83   89                   Inter        53.0   \n",
       "1133    C. Gallagher   21   78   85          Crystal Palace        28.5   \n",
       "1134   E. Smith Rowe   20   80   87                 Arsenal        42.0   \n",
       "1135  C. Chukwuemeka   17   64   87             Aston Villa         1.8   \n",
       "1136     V. van Dijk   29   90   90               Liverpool       100.0   \n",
       "1137       B. Kamara   21   80   86  Olympique de Marseille        31.0   \n",
       "1138      T. Nianzou   19   72   85       FC Bayern München         5.0   \n",
       "1139  Fábio Carvalho   18   73   86                  Fulham         7.0   \n",
       "\n",
       "      Wage (K$)  Total  \n",
       "1120         26   1911  \n",
       "1121         10   1885  \n",
       "1122         34   1856  \n",
       "1123         50   1929  \n",
       "1124         56   1904  \n",
       "1125         57   1828  \n",
       "1126         46   2066  \n",
       "1127        200   2196  \n",
       "1128          7   1107  \n",
       "1129         85   1737  \n",
       "1130        270   2211  \n",
       "1131        210   2235  \n",
       "1132        100   1859  \n",
       "1133         69   1996  \n",
       "1134         65   1835  \n",
       "1135          2   1630  \n",
       "1136        240   2118  \n",
       "1137         30   1987  \n",
       "1138         20   1677  \n",
       "1139         15   1784  "
      ]
     },
     "execution_count": 21,
     "metadata": {},
     "output_type": "execute_result"
    }
   ],
   "source": [
    "fifa.tail(20)"
   ]
  },
  {
   "cell_type": "markdown",
   "metadata": {},
   "source": [
    "* Statistical Data"
   ]
  },
  {
   "cell_type": "code",
   "execution_count": 22,
   "metadata": {},
   "outputs": [
    {
     "data": {
      "text/html": [
       "<div>\n",
       "<style scoped>\n",
       "    .dataframe tbody tr th:only-of-type {\n",
       "        vertical-align: middle;\n",
       "    }\n",
       "\n",
       "    .dataframe tbody tr th {\n",
       "        vertical-align: top;\n",
       "    }\n",
       "\n",
       "    .dataframe thead th {\n",
       "        text-align: right;\n",
       "    }\n",
       "</style>\n",
       "<table border=\"1\" class=\"dataframe\">\n",
       "  <thead>\n",
       "    <tr style=\"text-align: right;\">\n",
       "      <th></th>\n",
       "      <th>Age</th>\n",
       "      <th>OVA</th>\n",
       "      <th>POT</th>\n",
       "      <th>Value (M$)</th>\n",
       "      <th>Wage (K$)</th>\n",
       "      <th>Total</th>\n",
       "    </tr>\n",
       "  </thead>\n",
       "  <tbody>\n",
       "    <tr>\n",
       "      <th>count</th>\n",
       "      <td>1140.000000</td>\n",
       "      <td>1140.000000</td>\n",
       "      <td>1140.000000</td>\n",
       "      <td>1140.000000</td>\n",
       "      <td>1140.000000</td>\n",
       "      <td>1140.000000</td>\n",
       "    </tr>\n",
       "    <tr>\n",
       "      <th>mean</th>\n",
       "      <td>21.379825</td>\n",
       "      <td>79.969298</td>\n",
       "      <td>87.651754</td>\n",
       "      <td>47.277982</td>\n",
       "      <td>76.387719</td>\n",
       "      <td>1959.837719</td>\n",
       "    </tr>\n",
       "    <tr>\n",
       "      <th>std</th>\n",
       "      <td>3.676150</td>\n",
       "      <td>5.820246</td>\n",
       "      <td>3.270474</td>\n",
       "      <td>37.188700</td>\n",
       "      <td>84.383696</td>\n",
       "      <td>177.919626</td>\n",
       "    </tr>\n",
       "    <tr>\n",
       "      <th>min</th>\n",
       "      <td>16.000000</td>\n",
       "      <td>64.000000</td>\n",
       "      <td>75.000000</td>\n",
       "      <td>1.500000</td>\n",
       "      <td>1.000000</td>\n",
       "      <td>1107.000000</td>\n",
       "    </tr>\n",
       "    <tr>\n",
       "      <th>25%</th>\n",
       "      <td>19.000000</td>\n",
       "      <td>77.000000</td>\n",
       "      <td>86.000000</td>\n",
       "      <td>20.500000</td>\n",
       "      <td>16.000000</td>\n",
       "      <td>1856.000000</td>\n",
       "    </tr>\n",
       "    <tr>\n",
       "      <th>50%</th>\n",
       "      <td>21.000000</td>\n",
       "      <td>80.000000</td>\n",
       "      <td>88.000000</td>\n",
       "      <td>37.000000</td>\n",
       "      <td>48.000000</td>\n",
       "      <td>1987.000000</td>\n",
       "    </tr>\n",
       "    <tr>\n",
       "      <th>75%</th>\n",
       "      <td>22.000000</td>\n",
       "      <td>83.000000</td>\n",
       "      <td>90.000000</td>\n",
       "      <td>68.000000</td>\n",
       "      <td>110.000000</td>\n",
       "      <td>2085.000000</td>\n",
       "    </tr>\n",
       "    <tr>\n",
       "      <th>max</th>\n",
       "      <td>36.000000</td>\n",
       "      <td>92.000000</td>\n",
       "      <td>95.000000</td>\n",
       "      <td>194.000000</td>\n",
       "      <td>450.000000</td>\n",
       "      <td>2257.000000</td>\n",
       "    </tr>\n",
       "  </tbody>\n",
       "</table>\n",
       "</div>"
      ],
      "text/plain": [
       "               Age          OVA          POT   Value (M$)    Wage (K$)  \\\n",
       "count  1140.000000  1140.000000  1140.000000  1140.000000  1140.000000   \n",
       "mean     21.379825    79.969298    87.651754    47.277982    76.387719   \n",
       "std       3.676150     5.820246     3.270474    37.188700    84.383696   \n",
       "min      16.000000    64.000000    75.000000     1.500000     1.000000   \n",
       "25%      19.000000    77.000000    86.000000    20.500000    16.000000   \n",
       "50%      21.000000    80.000000    88.000000    37.000000    48.000000   \n",
       "75%      22.000000    83.000000    90.000000    68.000000   110.000000   \n",
       "max      36.000000    92.000000    95.000000   194.000000   450.000000   \n",
       "\n",
       "             Total  \n",
       "count  1140.000000  \n",
       "mean   1959.837719  \n",
       "std     177.919626  \n",
       "min    1107.000000  \n",
       "25%    1856.000000  \n",
       "50%    1987.000000  \n",
       "75%    2085.000000  \n",
       "max    2257.000000  "
      ]
     },
     "execution_count": 22,
     "metadata": {},
     "output_type": "execute_result"
    }
   ],
   "source": [
    "fifa.describe()"
   ]
  },
  {
   "cell_type": "markdown",
   "metadata": {},
   "source": [
    "# Analysis"
   ]
  },
  {
   "cell_type": "markdown",
   "metadata": {},
   "source": [
    "* Display and drop all the duplicated datas"
   ]
  },
  {
   "cell_type": "code",
   "execution_count": 23,
   "metadata": {},
   "outputs": [],
   "source": [
    "fifa.duplicated().sum()\n",
    "fifa.drop_duplicates(inplace=True)"
   ]
  },
  {
   "cell_type": "markdown",
   "metadata": {},
   "source": [
    "* Player who is having the highest wage?"
   ]
  },
  {
   "cell_type": "code",
   "execution_count": 24,
   "metadata": {},
   "outputs": [
    {
     "data": {
      "text/html": [
       "<div>\n",
       "<style scoped>\n",
       "    .dataframe tbody tr th:only-of-type {\n",
       "        vertical-align: middle;\n",
       "    }\n",
       "\n",
       "    .dataframe tbody tr th {\n",
       "        vertical-align: top;\n",
       "    }\n",
       "\n",
       "    .dataframe thead th {\n",
       "        text-align: right;\n",
       "    }\n",
       "</style>\n",
       "<table border=\"1\" class=\"dataframe\">\n",
       "  <thead>\n",
       "    <tr style=\"text-align: right;\">\n",
       "      <th></th>\n",
       "      <th>Name</th>\n",
       "      <th>Age</th>\n",
       "      <th>OVA</th>\n",
       "      <th>POT</th>\n",
       "      <th>Team</th>\n",
       "      <th>Value (M$)</th>\n",
       "      <th>Wage (K$)</th>\n",
       "      <th>Total</th>\n",
       "    </tr>\n",
       "  </thead>\n",
       "  <tbody>\n",
       "    <tr>\n",
       "      <th>38</th>\n",
       "      <td>K. Benzema</td>\n",
       "      <td>33</td>\n",
       "      <td>91</td>\n",
       "      <td>91</td>\n",
       "      <td>Real Madrid CF</td>\n",
       "      <td>84.0</td>\n",
       "      <td>450</td>\n",
       "      <td>2145</td>\n",
       "    </tr>\n",
       "  </tbody>\n",
       "</table>\n",
       "</div>"
      ],
      "text/plain": [
       "          Name  Age  OVA  POT            Team  Value (M$)  Wage (K$)  Total\n",
       "38  K. Benzema   33   91   91  Real Madrid CF        84.0        450   2145"
      ]
     },
     "execution_count": 24,
     "metadata": {},
     "output_type": "execute_result"
    }
   ],
   "source": [
    "fifa[fifa['Wage (K$)']==max(fifa['Wage (K$)'])]\n",
    "\n",
    "# K. Benzema is the player with highest wage\n"
   ]
  },
  {
   "cell_type": "markdown",
   "metadata": {},
   "source": [
    "* Find the youngest player(s)"
   ]
  },
  {
   "cell_type": "code",
   "execution_count": 25,
   "metadata": {},
   "outputs": [
    {
     "data": {
      "text/html": [
       "<div>\n",
       "<style scoped>\n",
       "    .dataframe tbody tr th:only-of-type {\n",
       "        vertical-align: middle;\n",
       "    }\n",
       "\n",
       "    .dataframe tbody tr th {\n",
       "        vertical-align: top;\n",
       "    }\n",
       "\n",
       "    .dataframe thead th {\n",
       "        text-align: right;\n",
       "    }\n",
       "</style>\n",
       "<table border=\"1\" class=\"dataframe\">\n",
       "  <thead>\n",
       "    <tr style=\"text-align: right;\">\n",
       "      <th></th>\n",
       "      <th>Name</th>\n",
       "      <th>Age</th>\n",
       "      <th>OVA</th>\n",
       "      <th>POT</th>\n",
       "      <th>Team</th>\n",
       "      <th>Value (M$)</th>\n",
       "      <th>Wage (K$)</th>\n",
       "      <th>Total</th>\n",
       "    </tr>\n",
       "  </thead>\n",
       "  <tbody>\n",
       "    <tr>\n",
       "      <th>10</th>\n",
       "      <td>Gavi</td>\n",
       "      <td>16</td>\n",
       "      <td>77</td>\n",
       "      <td>89</td>\n",
       "      <td>FC Barcelona</td>\n",
       "      <td>24.0</td>\n",
       "      <td>14</td>\n",
       "      <td>1970</td>\n",
       "    </tr>\n",
       "    <tr>\n",
       "      <th>33</th>\n",
       "      <td>Y. Moukoko</td>\n",
       "      <td>16</td>\n",
       "      <td>69</td>\n",
       "      <td>89</td>\n",
       "      <td>Borussia Dortmund</td>\n",
       "      <td>3.8</td>\n",
       "      <td>5</td>\n",
       "      <td>1725</td>\n",
       "    </tr>\n",
       "    <tr>\n",
       "      <th>50</th>\n",
       "      <td>N. Mbamba</td>\n",
       "      <td>16</td>\n",
       "      <td>64</td>\n",
       "      <td>88</td>\n",
       "      <td>Club Brugge KV</td>\n",
       "      <td>1.7</td>\n",
       "      <td>50</td>\n",
       "      <td>1546</td>\n",
       "    </tr>\n",
       "  </tbody>\n",
       "</table>\n",
       "</div>"
      ],
      "text/plain": [
       "          Name  Age  OVA  POT               Team  Value (M$)  Wage (K$)  Total\n",
       "10        Gavi   16   77   89       FC Barcelona        24.0         14   1970\n",
       "33  Y. Moukoko   16   69   89  Borussia Dortmund         3.8          5   1725\n",
       "50   N. Mbamba   16   64   88     Club Brugge KV         1.7         50   1546"
      ]
     },
     "execution_count": 25,
     "metadata": {},
     "output_type": "execute_result"
    }
   ],
   "source": [
    "# Youngest player\n",
    "fifa[fifa['Age']==min(fifa['Age'])]"
   ]
  },
  {
   "cell_type": "markdown",
   "metadata": {},
   "source": [
    "* Find the oldest player(s)"
   ]
  },
  {
   "cell_type": "code",
   "execution_count": 26,
   "metadata": {},
   "outputs": [
    {
     "data": {
      "text/html": [
       "<div>\n",
       "<style scoped>\n",
       "    .dataframe tbody tr th:only-of-type {\n",
       "        vertical-align: middle;\n",
       "    }\n",
       "\n",
       "    .dataframe tbody tr th {\n",
       "        vertical-align: top;\n",
       "    }\n",
       "\n",
       "    .dataframe thead th {\n",
       "        text-align: right;\n",
       "    }\n",
       "</style>\n",
       "<table border=\"1\" class=\"dataframe\">\n",
       "  <thead>\n",
       "    <tr style=\"text-align: right;\">\n",
       "      <th></th>\n",
       "      <th>Name</th>\n",
       "      <th>Age</th>\n",
       "    </tr>\n",
       "  </thead>\n",
       "  <tbody>\n",
       "    <tr>\n",
       "      <th>6</th>\n",
       "      <td>Cristiano Ronaldo</td>\n",
       "      <td>36</td>\n",
       "    </tr>\n",
       "  </tbody>\n",
       "</table>\n",
       "</div>"
      ],
      "text/plain": [
       "                Name  Age\n",
       "6  Cristiano Ronaldo   36"
      ]
     },
     "execution_count": 26,
     "metadata": {},
     "output_type": "execute_result"
    }
   ],
   "source": [
    "# Oldest player\n",
    "fifa[fifa['Age']==max(fifa['Age'])][['Name',\"Age\"]]"
   ]
  },
  {
   "cell_type": "markdown",
   "metadata": {},
   "source": [
    "* List out the Top 10 players according to their POT"
   ]
  },
  {
   "cell_type": "code",
   "execution_count": 27,
   "metadata": {},
   "outputs": [
    {
     "data": {
      "text/plain": [
       "57             K. Mbappé\n",
       "36            E. Haaland\n",
       "837           F. de Jong\n",
       "30              P. Foden\n",
       "28                 Pedri\n",
       "599       R. Lewandowski\n",
       "14              L. Messi\n",
       "38            K. Benzema\n",
       "6      Cristiano Ronaldo\n",
       "49            K. Havertz\n",
       "Name: Name, dtype: object"
      ]
     },
     "execution_count": 27,
     "metadata": {},
     "output_type": "execute_result"
    }
   ],
   "source": [
    "fifa.sort_values(by=\"POT\", ascending=False)['Name'].head(10)"
   ]
  },
  {
   "cell_type": "markdown",
   "metadata": {},
   "source": [
    "* Create a new DataFrame with the values of columns - Name & POT"
   ]
  },
  {
   "cell_type": "code",
   "execution_count": 28,
   "metadata": {},
   "outputs": [
    {
     "data": {
      "text/html": [
       "<div>\n",
       "<style scoped>\n",
       "    .dataframe tbody tr th:only-of-type {\n",
       "        vertical-align: middle;\n",
       "    }\n",
       "\n",
       "    .dataframe tbody tr th {\n",
       "        vertical-align: top;\n",
       "    }\n",
       "\n",
       "    .dataframe thead th {\n",
       "        text-align: right;\n",
       "    }\n",
       "</style>\n",
       "<table border=\"1\" class=\"dataframe\">\n",
       "  <thead>\n",
       "    <tr style=\"text-align: right;\">\n",
       "      <th></th>\n",
       "      <th>Name</th>\n",
       "      <th>POT</th>\n",
       "    </tr>\n",
       "  </thead>\n",
       "  <tbody>\n",
       "    <tr>\n",
       "      <th>0</th>\n",
       "      <td>T. Anjorin</td>\n",
       "      <td>80</td>\n",
       "    </tr>\n",
       "    <tr>\n",
       "      <th>1</th>\n",
       "      <td>C. Nkunku</td>\n",
       "      <td>89</td>\n",
       "    </tr>\n",
       "    <tr>\n",
       "      <th>2</th>\n",
       "      <td>A. Knauff</td>\n",
       "      <td>82</td>\n",
       "    </tr>\n",
       "    <tr>\n",
       "      <th>3</th>\n",
       "      <td>R. Nelson</td>\n",
       "      <td>79</td>\n",
       "    </tr>\n",
       "    <tr>\n",
       "      <th>4</th>\n",
       "      <td>O. Kökçü</td>\n",
       "      <td>85</td>\n",
       "    </tr>\n",
       "    <tr>\n",
       "      <th>...</th>\n",
       "      <td>...</td>\n",
       "      <td>...</td>\n",
       "    </tr>\n",
       "    <tr>\n",
       "      <th>837</th>\n",
       "      <td>F. de Jong</td>\n",
       "      <td>92</td>\n",
       "    </tr>\n",
       "    <tr>\n",
       "      <th>959</th>\n",
       "      <td>T. Nianzou</td>\n",
       "      <td>85</td>\n",
       "    </tr>\n",
       "    <tr>\n",
       "      <th>1018</th>\n",
       "      <td>B. Kamara</td>\n",
       "      <td>86</td>\n",
       "    </tr>\n",
       "    <tr>\n",
       "      <th>1077</th>\n",
       "      <td>V. van Dijk</td>\n",
       "      <td>90</td>\n",
       "    </tr>\n",
       "    <tr>\n",
       "      <th>1139</th>\n",
       "      <td>Fábio Carvalho</td>\n",
       "      <td>86</td>\n",
       "    </tr>\n",
       "  </tbody>\n",
       "</table>\n",
       "<p>78 rows × 2 columns</p>\n",
       "</div>"
      ],
      "text/plain": [
       "                Name  POT\n",
       "0         T. Anjorin   80\n",
       "1          C. Nkunku   89\n",
       "2          A. Knauff   82\n",
       "3          R. Nelson   79\n",
       "4           O. Kökçü   85\n",
       "...              ...  ...\n",
       "837       F. de Jong   92\n",
       "959       T. Nianzou   85\n",
       "1018       B. Kamara   86\n",
       "1077     V. van Dijk   90\n",
       "1139  Fábio Carvalho   86\n",
       "\n",
       "[78 rows x 2 columns]"
      ]
     },
     "execution_count": 28,
     "metadata": {},
     "output_type": "execute_result"
    }
   ],
   "source": [
    "new_df=fifa[['Name','POT']]\n",
    "new_df"
   ]
  },
  {
   "cell_type": "markdown",
   "metadata": {},
   "source": [
    "* Plot a graph for Player's name Vs Player's POT"
   ]
  },
  {
   "cell_type": "code",
   "execution_count": 39,
   "metadata": {},
   "outputs": [
    {
     "data": {
      "text/plain": [
       "<BarContainer object of 10 artists>"
      ]
     },
     "execution_count": 39,
     "metadata": {},
     "output_type": "execute_result"
    },
    {
     "data": {
      "image/png": "[encoded data removed]",
      "text/plain": [
       "<Figure size 432x288 with 1 Axes>"
      ]
     },
     "metadata": {
      "needs_background": "light"
     },
     "output_type": "display_data"
    }
   ],
   "source": [
    "x=fifa['Name'].head(10)\n",
    "y=fifa['POT'].head(10)\n",
    "fig=plt.figure()\n",
    "fig.add_axes([1,2,2,1])\n",
    "plt.title(\"Player's name Vs Player's POT\")\n",
    "plt.xlabel(\"Player's Name\")\n",
    "plt.ylabel(\"Player's POT\")\n",
    "plt.bar(x,y)"
   ]
  }
 ],
 "metadata": {
  "interpreter": {
   "hash": "cb4a6ece8dc9cf1f5b1565d05f1a189d257ecb16f7f86b5ca0cc8563c18481dc"
  },
  "kernelspec": {
   "display_name": "Python 3.9.7 ('base')",
   "language": "python",
   "name": "python3"
  },
  "language_info": {
   "codemirror_mode": {
    "name": "ipython",
    "version": 3
   },
   "file_extension": ".py",
   "mimetype": "text/x-python",
   "name": "python",
   "nbconvert_exporter": "python",
   "pygments_lexer": "ipython3",
   "version": "3.9.7"
  },
  "orig_nbformat": 4
 },
 "nbformat": 4,
 "nbformat_minor": 2
}

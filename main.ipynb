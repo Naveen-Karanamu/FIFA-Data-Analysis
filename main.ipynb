{
 "cells": [
  {
   "cell_type": "markdown",
   "metadata": {},
   "source": [
    "# FIFA DataSet Analysis"
   ]
  },
  {
   "cell_type": "markdown",
   "metadata": {},
   "source": [
    "\n",
    "* Importing Libraries"
   ]
  },
  {
   "cell_type": "code",
   "execution_count": 283,
   "metadata": {},
   "outputs": [],
   "source": [
    "#Numpy\n",
    "import numpy as np\n",
    "\n",
    "# Pandas\n",
    "import pandas as pd\n",
    "\n",
    "# BeautifulSoup\n",
    "from bs4 import BeautifulSoup\n",
    "\n",
    "# Requests\n",
    "import requests\n",
    "\n",
    "# Reges\n",
    "import regex as re \n"
   ]
  },
  {
   "cell_type": "markdown",
   "metadata": {},
   "source": [
    "* Web Scrapping\n"
   ]
  },
  {
   "cell_type": "code",
   "execution_count": 284,
   "metadata": {},
   "outputs": [
    {
     "data": {
      "text/plain": [
       "<Response [200]>"
      ]
     },
     "execution_count": 284,
     "metadata": {},
     "output_type": "execute_result"
    }
   ],
   "source": [
    "req=requests.get(\"https://sofifa.com/players?offset=1\")\n",
    "req"
   ]
  },
  {
   "cell_type": "markdown",
   "metadata": {},
   "source": [
    "* BeautifulSoup"
   ]
  },
  {
   "cell_type": "code",
   "execution_count": 285,
   "metadata": {},
   "outputs": [],
   "source": [
    "soup=BeautifulSoup(req.content)"
   ]
  },
  {
   "cell_type": "code",
   "execution_count": 286,
   "metadata": {},
   "outputs": [],
   "source": [
    "# Adding the attributes to the array\n",
    "arr=[]\n",
    "for i in soup.findAll('td'):\n",
    "    arr.append(str(i))"
   ]
  },
  {
   "cell_type": "markdown",
   "metadata": {},
   "source": [
    "* Cleaning Image URL"
   ]
  },
  {
   "cell_type": "code",
   "execution_count": 287,
   "metadata": {},
   "outputs": [
    {
     "data": {
      "text/plain": [
       "'https://cdn.sofifa.net/players/253/537/22_60.png'"
      ]
     },
     "execution_count": 287,
     "metadata": {},
     "output_type": "execute_result"
    }
   ],
   "source": [
    "clean_img=re.sub('<td.*\\n.*data-src=.|\".*',\"\",arr[0])\n",
    "clean_img"
   ]
  },
  {
   "cell_type": "code",
   "execution_count": 288,
   "metadata": {},
   "outputs": [
    {
     "data": {
      "text/plain": [
       "'<td class=\"col-avatar\" data-balloon=\"Click here!\" data-balloon-pos=\"up\" data-balloon-visible=\"\"><figure class=\"avatar\">\\n<img alt=\"\" class=\"player-check\" data-root=\"https://cdn.sofifa.net/players/\" data-src=\"https://cdn.sofifa.net/players/253/537/22_60.png\" data-srcset=\"https://cdn.sofifa.net/players/253/537/22_120.png 2x, https://cdn.sofifa.net/players/253/537/22_180.png 3x\" data-type=\"player\" id=\"253537\" src=\"https://cdn.sofifa.net/players/notfound_0_60.png\"/></figure></td>'"
      ]
     },
     "execution_count": 288,
     "metadata": {},
     "output_type": "execute_result"
    }
   ],
   "source": [
    "# The row is from 0-8\n",
    "arr[0]"
   ]
  },
  {
   "cell_type": "markdown",
   "metadata": {},
   "source": [
    "* Cleaning Name"
   ]
  },
  {
   "cell_type": "code",
   "execution_count": 289,
   "metadata": {},
   "outputs": [
    {
     "data": {
      "text/plain": [
       "'B. Castillo'"
      ]
     },
     "execution_count": 289,
     "metadata": {},
     "output_type": "execute_result"
    }
   ],
   "source": [
    "clean_name=re.sub('<td.*\\n.*s\">|<\\/div.*>',\"\",arr[1])\n",
    "clean_name"
   ]
  },
  {
   "cell_type": "markdown",
   "metadata": {},
   "source": [
    "* Cleaning Age"
   ]
  },
  {
   "cell_type": "code",
   "execution_count": 290,
   "metadata": {},
   "outputs": [
    {
     "data": {
      "text/plain": [
       "'21'"
      ]
     },
     "execution_count": 290,
     "metadata": {},
     "output_type": "execute_result"
    }
   ],
   "source": [
    "clean_age=re.sub('<td.*e\">|<.*>',\"\",arr[11])\n",
    "clean_age"
   ]
  },
  {
   "cell_type": "markdown",
   "metadata": {},
   "source": [
    "* Cleaning OVA"
   ]
  },
  {
   "cell_type": "code",
   "execution_count": 291,
   "metadata": {},
   "outputs": [
    {
     "data": {
      "text/plain": [
       "'76'"
      ]
     },
     "execution_count": 291,
     "metadata": {},
     "output_type": "execute_result"
    }
   ],
   "source": [
    "clean_ova=re.sub('<td.*p.*\">|<.*>',\"\",arr[3])\n",
    "clean_ova"
   ]
  },
  {
   "cell_type": "markdown",
   "metadata": {},
   "source": [
    "* Cleaning POT"
   ]
  },
  {
   "cell_type": "code",
   "execution_count": 292,
   "metadata": {},
   "outputs": [
    {
     "data": {
      "text/plain": [
       "'81'"
      ]
     },
     "execution_count": 292,
     "metadata": {},
     "output_type": "execute_result"
    }
   ],
   "source": [
    "clean_pot=re.sub('<td.*p.*\">|<.*>',\"\",arr[4])\n",
    "clean_pot"
   ]
  },
  {
   "cell_type": "markdown",
   "metadata": {},
   "source": [
    "* Cleaning Team & Contract"
   ]
  },
  {
   "cell_type": "code",
   "execution_count": 293,
   "metadata": {},
   "outputs": [
    {
     "data": {
      "text/plain": [
       "'Barcelona Sporting Club'"
      ]
     },
     "execution_count": 293,
     "metadata": {},
     "output_type": "execute_result"
    }
   ],
   "source": [
    "clean_team=re.sub('<td.*\\n<d.*\\n<i.*\\n</f.*\\n.*/\">|<.*\\n.*>\\n.*>\\n.*>',\"\",arr[5])\n",
    "clean_team"
   ]
  },
  {
   "cell_type": "markdown",
   "metadata": {},
   "source": [
    "* Cleaning Value"
   ]
  },
  {
   "cell_type": "code",
   "execution_count": 294,
   "metadata": {},
   "outputs": [
    {
     "data": {
      "text/plain": [
       "'€11M'"
      ]
     },
     "execution_count": 294,
     "metadata": {},
     "output_type": "execute_result"
    }
   ],
   "source": [
    "clean_value=re.sub('<td.*\">|<.*>',\"\",arr[6])\n",
    "clean_value"
   ]
  },
  {
   "cell_type": "markdown",
   "metadata": {},
   "source": [
    "* Cleaning Wage"
   ]
  },
  {
   "cell_type": "code",
   "execution_count": 295,
   "metadata": {},
   "outputs": [
    {
     "data": {
      "text/plain": [
       "'€1K'"
      ]
     },
     "execution_count": 295,
     "metadata": {},
     "output_type": "execute_result"
    }
   ],
   "source": [
    "clean_wage=re.sub('<td.*\">|<.*>',\"\",arr[7])\n",
    "clean_wage"
   ]
  },
  {
   "cell_type": "markdown",
   "metadata": {},
   "source": [
    "* Cleaning Total"
   ]
  },
  {
   "cell_type": "code",
   "execution_count": 296,
   "metadata": {},
   "outputs": [
    {
     "data": {
      "text/plain": [
       "'1898'"
      ]
     },
     "execution_count": 296,
     "metadata": {},
     "output_type": "execute_result"
    }
   ],
   "source": [
    "clean_total=re.sub('<td.*\">|<.*>',\"\",arr[8])\n",
    "clean_total"
   ]
  },
  {
   "cell_type": "markdown",
   "metadata": {},
   "source": [
    "* Looping through the data"
   ]
  },
  {
   "cell_type": "code",
   "execution_count": 311,
   "metadata": {},
   "outputs": [],
   "source": [
    "#0-8\n",
    "img=[]\n",
    "name=[]\n",
    "age=[]\n",
    "ova=[]\n",
    "pot=[]\n",
    "team=[]\n",
    "value=[]\n",
    "wage=[]\n",
    "total=[]\n",
    "\n",
    "count=0\n",
    "for j in range(1,10):\n",
    "    url=f\"https://sofifa.com/players?offset=1{j}\"\n",
    "    req=requests.get(url)\n",
    "    soup=BeautifulSoup(req.content)\n",
    "    \n",
    "    for i in soup.findAll('td'):\n",
    "        clean_img=re.sub('<td.*\\n.*data-src=.|\".*',\"\",str(i))\n",
    "        clean_name=re.sub('<td.*\\n.*s\">|<\\/div.*>',\"\",str(i))\n",
    "        clean_age=re.sub('<td.*e\">|<.*>',\"\",str(i))\n",
    "        clean_ova=re.sub('<td.*p.*\">|<.*>',\"\",str(i))\n",
    "        clean_pot=re.sub('<td.*p.*\">|<.*>',\"\",str(i))\n",
    "        clean_team=re.sub('<td.*\\n<d.*\\n<i.*\\n</f.*\\n.*/\">|<.*\\n.*>\\n.*>\\n.*>',\"\",str(i))\n",
    "        clean_value=re.sub('<td.*\">|<.*>',\"\",str(i))\n",
    "        clean_wage=re.sub('<td.*\">|<.*>',\"\",str(i))\n",
    "        clean_total=re.sub('<td.*\">|<.*>',\"\",str(i))\n",
    "        \n",
    "        if count==0:\n",
    "            img.append(clean_img)\n",
    "            count+=1\n",
    "        elif count==1:\n",
    "            name.append(clean_name)\n",
    "            count+=1\n",
    "        elif count==2:\n",
    "            age.append(clean_age)\n",
    "            count+=1\n",
    "        elif count==3:\n",
    "            ova.append(clean_ova)\n",
    "            count+=1\n",
    "        elif count==4:\n",
    "            pot.append(clean_pot)\n",
    "            count+=1\n",
    "        elif count==5:\n",
    "            team.append(clean_team)\n",
    "            count+=1\n",
    "        elif count==6:\n",
    "            value.append(clean_value)\n",
    "            count+=1\n",
    "        elif count==7:\n",
    "            wage.append(clean_wage)\n",
    "            count+=1\n",
    "        else:\n",
    "            count=0\n",
    "            total.append(clean_total)\n",
    "       \n"
   ]
  },
  {
   "cell_type": "code",
   "execution_count": 312,
   "metadata": {},
   "outputs": [
    {
     "data": {
      "text/html": [
       "<div>\n",
       "<style scoped>\n",
       "    .dataframe tbody tr th:only-of-type {\n",
       "        vertical-align: middle;\n",
       "    }\n",
       "\n",
       "    .dataframe tbody tr th {\n",
       "        vertical-align: top;\n",
       "    }\n",
       "\n",
       "    .dataframe thead th {\n",
       "        text-align: right;\n",
       "    }\n",
       "</style>\n",
       "<table border=\"1\" class=\"dataframe\">\n",
       "  <thead>\n",
       "    <tr style=\"text-align: right;\">\n",
       "      <th></th>\n",
       "      <th>Image</th>\n",
       "      <th>Name</th>\n",
       "      <th>Age</th>\n",
       "      <th>OVA</th>\n",
       "      <th>POT</th>\n",
       "      <th>Team</th>\n",
       "      <th>Value</th>\n",
       "      <th>Wage</th>\n",
       "      <th>Total</th>\n",
       "    </tr>\n",
       "  </thead>\n",
       "  <tbody>\n",
       "    <tr>\n",
       "      <th>0</th>\n",
       "      <td>https://cdn.sofifa.net/players/232/411/22_60.png</td>\n",
       "      <td>C. Nkunku</td>\n",
       "      <td>23</td>\n",
       "      <td>86</td>\n",
       "      <td>89</td>\n",
       "      <td>RB Leipzig</td>\n",
       "      <td>€93M</td>\n",
       "      <td>€110K</td>\n",
       "      <td>2199</td>\n",
       "    </tr>\n",
       "    <tr>\n",
       "      <th>1</th>\n",
       "      <td>https://cdn.sofifa.net/players/264/240/22_60.png</td>\n",
       "      <td>Gavi</td>\n",
       "      <td>16</td>\n",
       "      <td>77</td>\n",
       "      <td>89</td>\n",
       "      <td>FC Barcelona</td>\n",
       "      <td>€24M</td>\n",
       "      <td>€14K</td>\n",
       "      <td>1970</td>\n",
       "    </tr>\n",
       "    <tr>\n",
       "      <th>2</th>\n",
       "      <td>https://cdn.sofifa.net/players/257/289/22_60.png</td>\n",
       "      <td>H. Ekitike</td>\n",
       "      <td>19</td>\n",
       "      <td>72</td>\n",
       "      <td>82</td>\n",
       "      <td>Stade de Reims</td>\n",
       "      <td>€5M</td>\n",
       "      <td>€12K</td>\n",
       "      <td>1691</td>\n",
       "    </tr>\n",
       "    <tr>\n",
       "      <th>3</th>\n",
       "      <td>https://cdn.sofifa.net/players/158/023/22_60.png</td>\n",
       "      <td>L. Messi</td>\n",
       "      <td>34</td>\n",
       "      <td>92</td>\n",
       "      <td>92</td>\n",
       "      <td>Paris Saint-Germain</td>\n",
       "      <td>€69.5M</td>\n",
       "      <td>€290K</td>\n",
       "      <td>2206</td>\n",
       "    </tr>\n",
       "    <tr>\n",
       "      <th>4</th>\n",
       "      <td>https://cdn.sofifa.net/players/210/413/22_60.png</td>\n",
       "      <td>A. Romagnoli</td>\n",
       "      <td>26</td>\n",
       "      <td>81</td>\n",
       "      <td>81</td>\n",
       "      <td>AC Milan</td>\n",
       "      <td>€24.5M</td>\n",
       "      <td>€46K</td>\n",
       "      <td>1746</td>\n",
       "    </tr>\n",
       "    <tr>\n",
       "      <th>...</th>\n",
       "      <td>...</td>\n",
       "      <td>...</td>\n",
       "      <td>...</td>\n",
       "      <td>...</td>\n",
       "      <td>...</td>\n",
       "      <td>...</td>\n",
       "      <td>...</td>\n",
       "      <td>...</td>\n",
       "      <td>...</td>\n",
       "    </tr>\n",
       "    <tr>\n",
       "      <th>535</th>\n",
       "      <td>https://cdn.sofifa.net/players/205/693/22_60.png</td>\n",
       "      <td>S. Haller</td>\n",
       "      <td>27</td>\n",
       "      <td>82</td>\n",
       "      <td>83</td>\n",
       "      <td>Ajax</td>\n",
       "      <td>€35.5M</td>\n",
       "      <td>€27K</td>\n",
       "      <td>1944</td>\n",
       "    </tr>\n",
       "    <tr>\n",
       "      <th>536</th>\n",
       "      <td>https://cdn.sofifa.net/players/248/808/22_60.png</td>\n",
       "      <td>A. Hickey</td>\n",
       "      <td>19</td>\n",
       "      <td>73</td>\n",
       "      <td>85</td>\n",
       "      <td>Bologna</td>\n",
       "      <td>€7M</td>\n",
       "      <td>€12K</td>\n",
       "      <td>1834</td>\n",
       "    </tr>\n",
       "    <tr>\n",
       "      <th>537</th>\n",
       "      <td>https://cdn.sofifa.net/players/266/032/22_60.png</td>\n",
       "      <td>J. Bynoe-Gittens</td>\n",
       "      <td>16</td>\n",
       "      <td>65</td>\n",
       "      <td>85</td>\n",
       "      <td>Borussia Dortmund</td>\n",
       "      <td>€1.9M</td>\n",
       "      <td>€3K</td>\n",
       "      <td>1554</td>\n",
       "    </tr>\n",
       "    <tr>\n",
       "      <th>538</th>\n",
       "      <td>https://cdn.sofifa.net/players/239/380/22_60.png</td>\n",
       "      <td>N. Lang</td>\n",
       "      <td>22</td>\n",
       "      <td>78</td>\n",
       "      <td>85</td>\n",
       "      <td>Club Brugge KV</td>\n",
       "      <td>€28.5M</td>\n",
       "      <td>€27K</td>\n",
       "      <td>2011</td>\n",
       "    </tr>\n",
       "    <tr>\n",
       "      <th>539</th>\n",
       "      <td>https://cdn.sofifa.net/players/246/174/22_60.png</td>\n",
       "      <td>H. Elliott</td>\n",
       "      <td>18</td>\n",
       "      <td>73</td>\n",
       "      <td>87</td>\n",
       "      <td>Liverpool</td>\n",
       "      <td>€7M</td>\n",
       "      <td>€23K</td>\n",
       "      <td>1723</td>\n",
       "    </tr>\n",
       "  </tbody>\n",
       "</table>\n",
       "<p>540 rows × 9 columns</p>\n",
       "</div>"
      ],
      "text/plain": [
       "                                                Image              Name Age  \\\n",
       "0    https://cdn.sofifa.net/players/232/411/22_60.png         C. Nkunku  23   \n",
       "1    https://cdn.sofifa.net/players/264/240/22_60.png              Gavi  16   \n",
       "2    https://cdn.sofifa.net/players/257/289/22_60.png        H. Ekitike  19   \n",
       "3    https://cdn.sofifa.net/players/158/023/22_60.png          L. Messi  34   \n",
       "4    https://cdn.sofifa.net/players/210/413/22_60.png      A. Romagnoli  26   \n",
       "..                                                ...               ...  ..   \n",
       "535  https://cdn.sofifa.net/players/205/693/22_60.png         S. Haller  27   \n",
       "536  https://cdn.sofifa.net/players/248/808/22_60.png         A. Hickey  19   \n",
       "537  https://cdn.sofifa.net/players/266/032/22_60.png  J. Bynoe-Gittens  16   \n",
       "538  https://cdn.sofifa.net/players/239/380/22_60.png           N. Lang  22   \n",
       "539  https://cdn.sofifa.net/players/246/174/22_60.png        H. Elliott  18   \n",
       "\n",
       "    OVA POT                 Team   Value   Wage Total  \n",
       "0    86  89           RB Leipzig    €93M  €110K  2199  \n",
       "1    77  89         FC Barcelona    €24M   €14K  1970  \n",
       "2    72  82       Stade de Reims     €5M   €12K  1691  \n",
       "3    92  92  Paris Saint-Germain  €69.5M  €290K  2206  \n",
       "4    81  81             AC Milan  €24.5M   €46K  1746  \n",
       "..   ..  ..                  ...     ...    ...   ...  \n",
       "535  82  83                 Ajax  €35.5M   €27K  1944  \n",
       "536  73  85              Bologna     €7M   €12K  1834  \n",
       "537  65  85    Borussia Dortmund   €1.9M    €3K  1554  \n",
       "538  78  85       Club Brugge KV  €28.5M   €27K  2011  \n",
       "539  73  87            Liverpool     €7M   €23K  1723  \n",
       "\n",
       "[540 rows x 9 columns]"
      ]
     },
     "execution_count": 312,
     "metadata": {},
     "output_type": "execute_result"
    }
   ],
   "source": [
    "fifa=pd.DataFrame({'Image':img,'Name':name,'Age':age,'OVA':ova,'POT':pot,'Team':team,'Value':value,'Wage':wage,'Total':total})\n",
    "fifa"
   ]
  },
  {
   "cell_type": "code",
   "execution_count": 309,
   "metadata": {},
   "outputs": [
    {
     "name": "stdout",
     "output_type": "stream",
     "text": [
      "https://google.com1\n",
      "https://google.com2\n",
      "https://google.com3\n",
      "https://google.com4\n",
      "https://google.com5\n",
      "https://google.com6\n",
      "https://google.com7\n",
      "https://google.com8\n",
      "https://google.com9\n"
     ]
    }
   ],
   "source": []
  }
 ],
 "metadata": {
  "interpreter": {
   "hash": "cb4a6ece8dc9cf1f5b1565d05f1a189d257ecb16f7f86b5ca0cc8563c18481dc"
  },
  "kernelspec": {
   "display_name": "Python 3.9.7 ('base')",
   "language": "python",
   "name": "python3"
  },
  "language_info": {
   "codemirror_mode": {
    "name": "ipython",
    "version": 3
   },
   "file_extension": ".py",
   "mimetype": "text/x-python",
   "name": "python",
   "nbconvert_exporter": "python",
   "pygments_lexer": "ipython3",
   "version": "3.9.7"
  },
  "orig_nbformat": 4
 },
 "nbformat": 4,
 "nbformat_minor": 2
}
